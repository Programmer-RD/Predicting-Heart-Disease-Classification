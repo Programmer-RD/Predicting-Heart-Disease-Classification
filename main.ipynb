{
 "cells": [
  {
   "cell_type": "code",
   "execution_count": 1,
   "metadata": {},
   "outputs": [],
   "source": [
    "import pandas as pd"
   ]
  },
  {
   "cell_type": "code",
   "execution_count": 2,
   "metadata": {},
   "outputs": [],
   "source": [
    "data = pd.read_csv('./heart-disease.csv')"
   ]
  },
  {
   "cell_type": "code",
   "execution_count": 3,
   "metadata": {},
   "outputs": [
    {
     "data": {
      "text/html": [
       "<div>\n",
       "<style scoped>\n",
       "    .dataframe tbody tr th:only-of-type {\n",
       "        vertical-align: middle;\n",
       "    }\n",
       "\n",
       "    .dataframe tbody tr th {\n",
       "        vertical-align: top;\n",
       "    }\n",
       "\n",
       "    .dataframe thead th {\n",
       "        text-align: right;\n",
       "    }\n",
       "</style>\n",
       "<table border=\"1\" class=\"dataframe\">\n",
       "  <thead>\n",
       "    <tr style=\"text-align: right;\">\n",
       "      <th></th>\n",
       "      <th>age</th>\n",
       "      <th>sex</th>\n",
       "      <th>cp</th>\n",
       "      <th>trestbps</th>\n",
       "      <th>chol</th>\n",
       "      <th>fbs</th>\n",
       "      <th>restecg</th>\n",
       "      <th>thalach</th>\n",
       "      <th>exang</th>\n",
       "      <th>oldpeak</th>\n",
       "      <th>slope</th>\n",
       "      <th>ca</th>\n",
       "      <th>thal</th>\n",
       "      <th>target</th>\n",
       "    </tr>\n",
       "  </thead>\n",
       "  <tbody>\n",
       "    <tr>\n",
       "      <th>0</th>\n",
       "      <td>63</td>\n",
       "      <td>1</td>\n",
       "      <td>3</td>\n",
       "      <td>145</td>\n",
       "      <td>233</td>\n",
       "      <td>1</td>\n",
       "      <td>0</td>\n",
       "      <td>150</td>\n",
       "      <td>0</td>\n",
       "      <td>2.3</td>\n",
       "      <td>0</td>\n",
       "      <td>0</td>\n",
       "      <td>1</td>\n",
       "      <td>1</td>\n",
       "    </tr>\n",
       "    <tr>\n",
       "      <th>1</th>\n",
       "      <td>37</td>\n",
       "      <td>1</td>\n",
       "      <td>2</td>\n",
       "      <td>130</td>\n",
       "      <td>250</td>\n",
       "      <td>0</td>\n",
       "      <td>1</td>\n",
       "      <td>187</td>\n",
       "      <td>0</td>\n",
       "      <td>3.5</td>\n",
       "      <td>0</td>\n",
       "      <td>0</td>\n",
       "      <td>2</td>\n",
       "      <td>1</td>\n",
       "    </tr>\n",
       "    <tr>\n",
       "      <th>2</th>\n",
       "      <td>41</td>\n",
       "      <td>0</td>\n",
       "      <td>1</td>\n",
       "      <td>130</td>\n",
       "      <td>204</td>\n",
       "      <td>0</td>\n",
       "      <td>0</td>\n",
       "      <td>172</td>\n",
       "      <td>0</td>\n",
       "      <td>1.4</td>\n",
       "      <td>2</td>\n",
       "      <td>0</td>\n",
       "      <td>2</td>\n",
       "      <td>1</td>\n",
       "    </tr>\n",
       "    <tr>\n",
       "      <th>3</th>\n",
       "      <td>56</td>\n",
       "      <td>1</td>\n",
       "      <td>1</td>\n",
       "      <td>120</td>\n",
       "      <td>236</td>\n",
       "      <td>0</td>\n",
       "      <td>1</td>\n",
       "      <td>178</td>\n",
       "      <td>0</td>\n",
       "      <td>0.8</td>\n",
       "      <td>2</td>\n",
       "      <td>0</td>\n",
       "      <td>2</td>\n",
       "      <td>1</td>\n",
       "    </tr>\n",
       "    <tr>\n",
       "      <th>4</th>\n",
       "      <td>57</td>\n",
       "      <td>0</td>\n",
       "      <td>0</td>\n",
       "      <td>120</td>\n",
       "      <td>354</td>\n",
       "      <td>0</td>\n",
       "      <td>1</td>\n",
       "      <td>163</td>\n",
       "      <td>1</td>\n",
       "      <td>0.6</td>\n",
       "      <td>2</td>\n",
       "      <td>0</td>\n",
       "      <td>2</td>\n",
       "      <td>1</td>\n",
       "    </tr>\n",
       "  </tbody>\n",
       "</table>\n",
       "</div>"
      ],
      "text/plain": [
       "   age  sex  cp  trestbps  chol  fbs  restecg  thalach  exang  oldpeak  slope  \\\n",
       "0   63    1   3       145   233    1        0      150      0      2.3      0   \n",
       "1   37    1   2       130   250    0        1      187      0      3.5      0   \n",
       "2   41    0   1       130   204    0        0      172      0      1.4      2   \n",
       "3   56    1   1       120   236    0        1      178      0      0.8      2   \n",
       "4   57    0   0       120   354    0        1      163      1      0.6      2   \n",
       "\n",
       "   ca  thal  target  \n",
       "0   0     1       1  \n",
       "1   0     2       1  \n",
       "2   0     2       1  \n",
       "3   0     2       1  \n",
       "4   0     2       1  "
      ]
     },
     "execution_count": 3,
     "metadata": {},
     "output_type": "execute_result"
    }
   ],
   "source": [
    "data.head()"
   ]
  },
  {
   "cell_type": "code",
   "execution_count": 4,
   "metadata": {},
   "outputs": [
    {
     "data": {
      "text/plain": [
       "age         0\n",
       "sex         0\n",
       "cp          0\n",
       "trestbps    0\n",
       "chol        0\n",
       "fbs         0\n",
       "restecg     0\n",
       "thalach     0\n",
       "exang       0\n",
       "oldpeak     0\n",
       "slope       0\n",
       "ca          0\n",
       "thal        0\n",
       "target      0\n",
       "dtype: int64"
      ]
     },
     "execution_count": 4,
     "metadata": {},
     "output_type": "execute_result"
    }
   ],
   "source": [
    "data.isna().sum()"
   ]
  },
  {
   "cell_type": "code",
   "execution_count": 5,
   "metadata": {},
   "outputs": [
    {
     "data": {
      "text/plain": [
       "age           int64\n",
       "sex           int64\n",
       "cp            int64\n",
       "trestbps      int64\n",
       "chol          int64\n",
       "fbs           int64\n",
       "restecg       int64\n",
       "thalach       int64\n",
       "exang         int64\n",
       "oldpeak     float64\n",
       "slope         int64\n",
       "ca            int64\n",
       "thal          int64\n",
       "target        int64\n",
       "dtype: object"
      ]
     },
     "execution_count": 5,
     "metadata": {},
     "output_type": "execute_result"
    }
   ],
   "source": [
    "data.dtypes"
   ]
  },
  {
   "cell_type": "code",
   "execution_count": 6,
   "metadata": {},
   "outputs": [],
   "source": [
    "oldpeaks = []\n",
    "for oldpeak in data['oldpeak']:\n",
    "    oldpeaks.append(int(oldpeak))"
   ]
  },
  {
   "cell_type": "code",
   "execution_count": 7,
   "metadata": {},
   "outputs": [],
   "source": [
    "data['oldpeak'] = oldpeaks"
   ]
  },
  {
   "cell_type": "code",
   "execution_count": 9,
   "metadata": {},
   "outputs": [
    {
     "data": {
      "text/html": [
       "<div>\n",
       "<style scoped>\n",
       "    .dataframe tbody tr th:only-of-type {\n",
       "        vertical-align: middle;\n",
       "    }\n",
       "\n",
       "    .dataframe tbody tr th {\n",
       "        vertical-align: top;\n",
       "    }\n",
       "\n",
       "    .dataframe thead th {\n",
       "        text-align: right;\n",
       "    }\n",
       "</style>\n",
       "<table border=\"1\" class=\"dataframe\">\n",
       "  <thead>\n",
       "    <tr style=\"text-align: right;\">\n",
       "      <th></th>\n",
       "      <th>age</th>\n",
       "      <th>sex</th>\n",
       "      <th>cp</th>\n",
       "      <th>trestbps</th>\n",
       "      <th>chol</th>\n",
       "      <th>fbs</th>\n",
       "      <th>restecg</th>\n",
       "      <th>thalach</th>\n",
       "      <th>exang</th>\n",
       "      <th>oldpeak</th>\n",
       "      <th>slope</th>\n",
       "      <th>ca</th>\n",
       "      <th>thal</th>\n",
       "      <th>target</th>\n",
       "    </tr>\n",
       "  </thead>\n",
       "  <tbody>\n",
       "    <tr>\n",
       "      <th>0</th>\n",
       "      <td>63</td>\n",
       "      <td>1</td>\n",
       "      <td>3</td>\n",
       "      <td>145</td>\n",
       "      <td>233</td>\n",
       "      <td>1</td>\n",
       "      <td>0</td>\n",
       "      <td>150</td>\n",
       "      <td>0</td>\n",
       "      <td>2</td>\n",
       "      <td>0</td>\n",
       "      <td>0</td>\n",
       "      <td>1</td>\n",
       "      <td>1</td>\n",
       "    </tr>\n",
       "    <tr>\n",
       "      <th>1</th>\n",
       "      <td>37</td>\n",
       "      <td>1</td>\n",
       "      <td>2</td>\n",
       "      <td>130</td>\n",
       "      <td>250</td>\n",
       "      <td>0</td>\n",
       "      <td>1</td>\n",
       "      <td>187</td>\n",
       "      <td>0</td>\n",
       "      <td>3</td>\n",
       "      <td>0</td>\n",
       "      <td>0</td>\n",
       "      <td>2</td>\n",
       "      <td>1</td>\n",
       "    </tr>\n",
       "    <tr>\n",
       "      <th>2</th>\n",
       "      <td>41</td>\n",
       "      <td>0</td>\n",
       "      <td>1</td>\n",
       "      <td>130</td>\n",
       "      <td>204</td>\n",
       "      <td>0</td>\n",
       "      <td>0</td>\n",
       "      <td>172</td>\n",
       "      <td>0</td>\n",
       "      <td>1</td>\n",
       "      <td>2</td>\n",
       "      <td>0</td>\n",
       "      <td>2</td>\n",
       "      <td>1</td>\n",
       "    </tr>\n",
       "    <tr>\n",
       "      <th>3</th>\n",
       "      <td>56</td>\n",
       "      <td>1</td>\n",
       "      <td>1</td>\n",
       "      <td>120</td>\n",
       "      <td>236</td>\n",
       "      <td>0</td>\n",
       "      <td>1</td>\n",
       "      <td>178</td>\n",
       "      <td>0</td>\n",
       "      <td>0</td>\n",
       "      <td>2</td>\n",
       "      <td>0</td>\n",
       "      <td>2</td>\n",
       "      <td>1</td>\n",
       "    </tr>\n",
       "    <tr>\n",
       "      <th>4</th>\n",
       "      <td>57</td>\n",
       "      <td>0</td>\n",
       "      <td>0</td>\n",
       "      <td>120</td>\n",
       "      <td>354</td>\n",
       "      <td>0</td>\n",
       "      <td>1</td>\n",
       "      <td>163</td>\n",
       "      <td>1</td>\n",
       "      <td>0</td>\n",
       "      <td>2</td>\n",
       "      <td>0</td>\n",
       "      <td>2</td>\n",
       "      <td>1</td>\n",
       "    </tr>\n",
       "  </tbody>\n",
       "</table>\n",
       "</div>"
      ],
      "text/plain": [
       "   age  sex  cp  trestbps  chol  fbs  restecg  thalach  exang  oldpeak  slope  \\\n",
       "0   63    1   3       145   233    1        0      150      0        2      0   \n",
       "1   37    1   2       130   250    0        1      187      0        3      0   \n",
       "2   41    0   1       130   204    0        0      172      0        1      2   \n",
       "3   56    1   1       120   236    0        1      178      0        0      2   \n",
       "4   57    0   0       120   354    0        1      163      1        0      2   \n",
       "\n",
       "   ca  thal  target  \n",
       "0   0     1       1  \n",
       "1   0     2       1  \n",
       "2   0     2       1  \n",
       "3   0     2       1  \n",
       "4   0     2       1  "
      ]
     },
     "execution_count": 9,
     "metadata": {},
     "output_type": "execute_result"
    }
   ],
   "source": [
    "data.head()"
   ]
  },
  {
   "cell_type": "code",
   "execution_count": 12,
   "metadata": {},
   "outputs": [],
   "source": [
    "data = data.sample(frac=1)\n",
    "X = data.drop('target',axis=1)\n",
    "y = data['target']"
   ]
  },
  {
   "cell_type": "code",
   "execution_count": 13,
   "metadata": {},
   "outputs": [],
   "source": [
    "from sklearn.ensemble import *\n",
    "from sklearn.tree import *"
   ]
  },
  {
   "cell_type": "code",
   "execution_count": 19,
   "metadata": {},
   "outputs": [],
   "source": [
    "from sklearn.model_selection import *\n",
    "from sklearn.metrics import *\n",
    "X_train,X_test,y_train,y_test = train_test_split(X,y,test_size=0.25)\n",
    "model = RandomForestClassifier()\n",
    "model.fit(X_train,y_train)\n",
    "model.score(X_test,y_test)\n",
    "import pickle\n",
    "pickle.dump(model,open('./model.pkl','wb'))"
   ]
  },
  {
   "cell_type": "code",
   "execution_count": 28,
   "metadata": {},
   "outputs": [
    {
     "name": "stdout",
     "output_type": "stream",
     "text": [
      "Fitting 5 folds for each of 25 candidates, totalling 125 fits\n",
      "[CV] warm_start=False, n_estimators=1600, min_samples_split=4, min_samples_leaf=1, max_features=sqrt, max_depth=20, bootstrap=False \n"
     ]
    },
    {
     "name": "stderr",
     "output_type": "stream",
     "text": [
      "[Parallel(n_jobs=1)]: Using backend SequentialBackend with 1 concurrent workers.\n"
     ]
    },
    {
     "name": "stdout",
     "output_type": "stream",
     "text": [
      "[CV]  warm_start=False, n_estimators=1600, min_samples_split=4, min_samples_leaf=1, max_features=sqrt, max_depth=20, bootstrap=False, score=0.870, total=   1.4s\n",
      "[CV] warm_start=False, n_estimators=1600, min_samples_split=4, min_samples_leaf=1, max_features=sqrt, max_depth=20, bootstrap=False \n"
     ]
    },
    {
     "name": "stderr",
     "output_type": "stream",
     "text": [
      "[Parallel(n_jobs=1)]: Done   1 out of   1 | elapsed:    1.4s remaining:    0.0s\n"
     ]
    },
    {
     "name": "stdout",
     "output_type": "stream",
     "text": [
      "[CV]  warm_start=False, n_estimators=1600, min_samples_split=4, min_samples_leaf=1, max_features=sqrt, max_depth=20, bootstrap=False, score=0.826, total=   1.4s\n",
      "[CV] warm_start=False, n_estimators=1600, min_samples_split=4, min_samples_leaf=1, max_features=sqrt, max_depth=20, bootstrap=False \n"
     ]
    },
    {
     "name": "stderr",
     "output_type": "stream",
     "text": [
      "[Parallel(n_jobs=1)]: Done   2 out of   2 | elapsed:    2.9s remaining:    0.0s\n"
     ]
    },
    {
     "name": "stdout",
     "output_type": "stream",
     "text": [
      "[CV]  warm_start=False, n_estimators=1600, min_samples_split=4, min_samples_leaf=1, max_features=sqrt, max_depth=20, bootstrap=False, score=0.733, total=   1.4s\n",
      "[CV] warm_start=False, n_estimators=1600, min_samples_split=4, min_samples_leaf=1, max_features=sqrt, max_depth=20, bootstrap=False \n"
     ]
    },
    {
     "name": "stderr",
     "output_type": "stream",
     "text": [
      "[Parallel(n_jobs=1)]: Done   3 out of   3 | elapsed:    4.3s remaining:    0.0s\n"
     ]
    },
    {
     "name": "stdout",
     "output_type": "stream",
     "text": [
      "[CV]  warm_start=False, n_estimators=1600, min_samples_split=4, min_samples_leaf=1, max_features=sqrt, max_depth=20, bootstrap=False, score=0.867, total=   1.5s\n",
      "[CV] warm_start=False, n_estimators=1600, min_samples_split=4, min_samples_leaf=1, max_features=sqrt, max_depth=20, bootstrap=False \n"
     ]
    },
    {
     "name": "stderr",
     "output_type": "stream",
     "text": [
      "[Parallel(n_jobs=1)]: Done   4 out of   4 | elapsed:    5.8s remaining:    0.0s\n"
     ]
    },
    {
     "name": "stdout",
     "output_type": "stream",
     "text": [
      "[CV]  warm_start=False, n_estimators=1600, min_samples_split=4, min_samples_leaf=1, max_features=sqrt, max_depth=20, bootstrap=False, score=0.800, total=   1.5s\n",
      "[CV] warm_start=False, n_estimators=200, min_samples_split=2, min_samples_leaf=2, max_features=sqrt, max_depth=30, bootstrap=True \n"
     ]
    },
    {
     "name": "stderr",
     "output_type": "stream",
     "text": [
      "[Parallel(n_jobs=1)]: Done   5 out of   5 | elapsed:    7.2s remaining:    0.0s\n"
     ]
    },
    {
     "name": "stdout",
     "output_type": "stream",
     "text": [
      "[CV]  warm_start=False, n_estimators=200, min_samples_split=2, min_samples_leaf=2, max_features=sqrt, max_depth=30, bootstrap=True, score=0.891, total=   0.2s\n",
      "[CV] warm_start=False, n_estimators=200, min_samples_split=2, min_samples_leaf=2, max_features=sqrt, max_depth=30, bootstrap=True \n"
     ]
    },
    {
     "name": "stderr",
     "output_type": "stream",
     "text": [
      "[Parallel(n_jobs=1)]: Done   6 out of   6 | elapsed:    7.4s remaining:    0.0s\n"
     ]
    },
    {
     "name": "stdout",
     "output_type": "stream",
     "text": [
      "[CV]  warm_start=False, n_estimators=200, min_samples_split=2, min_samples_leaf=2, max_features=sqrt, max_depth=30, bootstrap=True, score=0.804, total=   0.2s\n",
      "[CV] warm_start=False, n_estimators=200, min_samples_split=2, min_samples_leaf=2, max_features=sqrt, max_depth=30, bootstrap=True \n"
     ]
    },
    {
     "name": "stderr",
     "output_type": "stream",
     "text": [
      "[Parallel(n_jobs=1)]: Done   7 out of   7 | elapsed:    7.7s remaining:    0.0s\n"
     ]
    },
    {
     "name": "stdout",
     "output_type": "stream",
     "text": [
      "[CV]  warm_start=False, n_estimators=200, min_samples_split=2, min_samples_leaf=2, max_features=sqrt, max_depth=30, bootstrap=True, score=0.711, total=   0.2s\n",
      "[CV] warm_start=False, n_estimators=200, min_samples_split=2, min_samples_leaf=2, max_features=sqrt, max_depth=30, bootstrap=True \n"
     ]
    },
    {
     "name": "stderr",
     "output_type": "stream",
     "text": [
      "[Parallel(n_jobs=1)]: Done   8 out of   8 | elapsed:    7.9s remaining:    0.0s\n"
     ]
    },
    {
     "name": "stdout",
     "output_type": "stream",
     "text": [
      "[CV]  warm_start=False, n_estimators=200, min_samples_split=2, min_samples_leaf=2, max_features=sqrt, max_depth=30, bootstrap=True, score=0.844, total=   0.2s\n",
      "[CV] warm_start=False, n_estimators=200, min_samples_split=2, min_samples_leaf=2, max_features=sqrt, max_depth=30, bootstrap=True \n"
     ]
    },
    {
     "name": "stderr",
     "output_type": "stream",
     "text": [
      "[Parallel(n_jobs=1)]: Done   9 out of   9 | elapsed:    8.2s remaining:    0.0s\n"
     ]
    },
    {
     "name": "stdout",
     "output_type": "stream",
     "text": [
      "[CV]  warm_start=False, n_estimators=200, min_samples_split=2, min_samples_leaf=2, max_features=sqrt, max_depth=30, bootstrap=True, score=0.844, total=   0.2s\n",
      "[CV] warm_start=True, n_estimators=200, min_samples_split=2, min_samples_leaf=1, max_features=sqrt, max_depth=5, bootstrap=True \n"
     ]
    },
    {
     "name": "stderr",
     "output_type": "stream",
     "text": [
      "[Parallel(n_jobs=1)]: Done  10 out of  10 | elapsed:    8.4s remaining:    0.0s\n"
     ]
    },
    {
     "name": "stdout",
     "output_type": "stream",
     "text": [
      "[CV]  warm_start=True, n_estimators=200, min_samples_split=2, min_samples_leaf=1, max_features=sqrt, max_depth=5, bootstrap=True, score=0.891, total=   0.2s\n",
      "[CV] warm_start=True, n_estimators=200, min_samples_split=2, min_samples_leaf=1, max_features=sqrt, max_depth=5, bootstrap=True \n"
     ]
    },
    {
     "name": "stderr",
     "output_type": "stream",
     "text": [
      "[Parallel(n_jobs=1)]: Done  11 out of  11 | elapsed:    8.6s remaining:    0.0s\n"
     ]
    },
    {
     "name": "stdout",
     "output_type": "stream",
     "text": [
      "[CV]  warm_start=True, n_estimators=200, min_samples_split=2, min_samples_leaf=1, max_features=sqrt, max_depth=5, bootstrap=True, score=0.826, total=   0.2s\n",
      "[CV] warm_start=True, n_estimators=200, min_samples_split=2, min_samples_leaf=1, max_features=sqrt, max_depth=5, bootstrap=True \n"
     ]
    },
    {
     "name": "stderr",
     "output_type": "stream",
     "text": [
      "[Parallel(n_jobs=1)]: Done  12 out of  12 | elapsed:    8.9s remaining:    0.0s\n"
     ]
    },
    {
     "name": "stdout",
     "output_type": "stream",
     "text": [
      "[CV]  warm_start=True, n_estimators=200, min_samples_split=2, min_samples_leaf=1, max_features=sqrt, max_depth=5, bootstrap=True, score=0.711, total=   0.2s\n",
      "[CV] warm_start=True, n_estimators=200, min_samples_split=2, min_samples_leaf=1, max_features=sqrt, max_depth=5, bootstrap=True \n"
     ]
    },
    {
     "name": "stderr",
     "output_type": "stream",
     "text": [
      "[Parallel(n_jobs=1)]: Done  13 out of  13 | elapsed:    9.1s remaining:    0.0s\n"
     ]
    },
    {
     "name": "stdout",
     "output_type": "stream",
     "text": [
      "[CV]  warm_start=True, n_estimators=200, min_samples_split=2, min_samples_leaf=1, max_features=sqrt, max_depth=5, bootstrap=True, score=0.844, total=   0.2s\n",
      "[CV] warm_start=True, n_estimators=200, min_samples_split=2, min_samples_leaf=1, max_features=sqrt, max_depth=5, bootstrap=True \n"
     ]
    },
    {
     "name": "stderr",
     "output_type": "stream",
     "text": [
      "[Parallel(n_jobs=1)]: Done  14 out of  14 | elapsed:    9.3s remaining:    0.0s\n"
     ]
    },
    {
     "name": "stdout",
     "output_type": "stream",
     "text": [
      "[CV]  warm_start=True, n_estimators=200, min_samples_split=2, min_samples_leaf=1, max_features=sqrt, max_depth=5, bootstrap=True, score=0.778, total=   0.2s\n",
      "[CV] warm_start=False, n_estimators=800, min_samples_split=6, min_samples_leaf=4, max_features=auto, max_depth=20, bootstrap=True \n"
     ]
    },
    {
     "name": "stderr",
     "output_type": "stream",
     "text": [
      "[Parallel(n_jobs=1)]: Done  15 out of  15 | elapsed:    9.6s remaining:    0.0s\n"
     ]
    },
    {
     "name": "stdout",
     "output_type": "stream",
     "text": [
      "[CV]  warm_start=False, n_estimators=800, min_samples_split=6, min_samples_leaf=4, max_features=auto, max_depth=20, bootstrap=True, score=0.891, total=   0.9s\n",
      "[CV] warm_start=False, n_estimators=800, min_samples_split=6, min_samples_leaf=4, max_features=auto, max_depth=20, bootstrap=True \n"
     ]
    },
    {
     "name": "stderr",
     "output_type": "stream",
     "text": [
      "[Parallel(n_jobs=1)]: Done  16 out of  16 | elapsed:   10.5s remaining:    0.0s\n"
     ]
    },
    {
     "name": "stdout",
     "output_type": "stream",
     "text": [
      "[CV]  warm_start=False, n_estimators=800, min_samples_split=6, min_samples_leaf=4, max_features=auto, max_depth=20, bootstrap=True, score=0.826, total=   0.9s\n",
      "[CV] warm_start=False, n_estimators=800, min_samples_split=6, min_samples_leaf=4, max_features=auto, max_depth=20, bootstrap=True \n"
     ]
    },
    {
     "name": "stderr",
     "output_type": "stream",
     "text": [
      "[Parallel(n_jobs=1)]: Done  17 out of  17 | elapsed:   11.4s remaining:    0.0s\n"
     ]
    },
    {
     "name": "stdout",
     "output_type": "stream",
     "text": [
      "[CV]  warm_start=False, n_estimators=800, min_samples_split=6, min_samples_leaf=4, max_features=auto, max_depth=20, bootstrap=True, score=0.711, total=   0.9s\n",
      "[CV] warm_start=False, n_estimators=800, min_samples_split=6, min_samples_leaf=4, max_features=auto, max_depth=20, bootstrap=True \n"
     ]
    },
    {
     "name": "stderr",
     "output_type": "stream",
     "text": [
      "[Parallel(n_jobs=1)]: Done  18 out of  18 | elapsed:   12.3s remaining:    0.0s\n"
     ]
    },
    {
     "name": "stdout",
     "output_type": "stream",
     "text": [
      "[CV]  warm_start=False, n_estimators=800, min_samples_split=6, min_samples_leaf=4, max_features=auto, max_depth=20, bootstrap=True, score=0.844, total=   0.9s\n",
      "[CV] warm_start=False, n_estimators=800, min_samples_split=6, min_samples_leaf=4, max_features=auto, max_depth=20, bootstrap=True \n"
     ]
    },
    {
     "name": "stderr",
     "output_type": "stream",
     "text": [
      "[Parallel(n_jobs=1)]: Done  19 out of  19 | elapsed:   13.2s remaining:    0.0s\n"
     ]
    },
    {
     "name": "stdout",
     "output_type": "stream",
     "text": [
      "[CV]  warm_start=False, n_estimators=800, min_samples_split=6, min_samples_leaf=4, max_features=auto, max_depth=20, bootstrap=True, score=0.778, total=   0.9s\n",
      "[CV] warm_start=False, n_estimators=800, min_samples_split=6, min_samples_leaf=4, max_features=auto, max_depth=10, bootstrap=False \n"
     ]
    },
    {
     "name": "stderr",
     "output_type": "stream",
     "text": [
      "[Parallel(n_jobs=1)]: Done  20 out of  20 | elapsed:   14.1s remaining:    0.0s\n"
     ]
    },
    {
     "name": "stdout",
     "output_type": "stream",
     "text": [
      "[CV]  warm_start=False, n_estimators=800, min_samples_split=6, min_samples_leaf=4, max_features=auto, max_depth=10, bootstrap=False, score=0.891, total=   0.7s\n",
      "[CV] warm_start=False, n_estimators=800, min_samples_split=6, min_samples_leaf=4, max_features=auto, max_depth=10, bootstrap=False \n"
     ]
    },
    {
     "name": "stderr",
     "output_type": "stream",
     "text": [
      "[Parallel(n_jobs=1)]: Done  21 out of  21 | elapsed:   14.8s remaining:    0.0s\n"
     ]
    },
    {
     "name": "stdout",
     "output_type": "stream",
     "text": [
      "[CV]  warm_start=False, n_estimators=800, min_samples_split=6, min_samples_leaf=4, max_features=auto, max_depth=10, bootstrap=False, score=0.826, total=   0.7s\n",
      "[CV] warm_start=False, n_estimators=800, min_samples_split=6, min_samples_leaf=4, max_features=auto, max_depth=10, bootstrap=False \n"
     ]
    },
    {
     "name": "stderr",
     "output_type": "stream",
     "text": [
      "[Parallel(n_jobs=1)]: Done  22 out of  22 | elapsed:   15.5s remaining:    0.0s\n"
     ]
    },
    {
     "name": "stdout",
     "output_type": "stream",
     "text": [
      "[CV]  warm_start=False, n_estimators=800, min_samples_split=6, min_samples_leaf=4, max_features=auto, max_depth=10, bootstrap=False, score=0.711, total=   0.8s\n",
      "[CV] warm_start=False, n_estimators=800, min_samples_split=6, min_samples_leaf=4, max_features=auto, max_depth=10, bootstrap=False \n"
     ]
    },
    {
     "name": "stderr",
     "output_type": "stream",
     "text": [
      "[Parallel(n_jobs=1)]: Done  23 out of  23 | elapsed:   16.3s remaining:    0.0s\n"
     ]
    },
    {
     "name": "stdout",
     "output_type": "stream",
     "text": [
      "[CV]  warm_start=False, n_estimators=800, min_samples_split=6, min_samples_leaf=4, max_features=auto, max_depth=10, bootstrap=False, score=0.844, total=   0.9s\n",
      "[CV] warm_start=False, n_estimators=800, min_samples_split=6, min_samples_leaf=4, max_features=auto, max_depth=10, bootstrap=False \n"
     ]
    },
    {
     "name": "stderr",
     "output_type": "stream",
     "text": [
      "[Parallel(n_jobs=1)]: Done  24 out of  24 | elapsed:   17.2s remaining:    0.0s\n"
     ]
    },
    {
     "name": "stdout",
     "output_type": "stream",
     "text": [
      "[CV]  warm_start=False, n_estimators=800, min_samples_split=6, min_samples_leaf=4, max_features=auto, max_depth=10, bootstrap=False, score=0.778, total=   0.9s\n",
      "[CV] warm_start=False, n_estimators=10, min_samples_split=4, min_samples_leaf=2, max_features=auto, max_depth=20, bootstrap=True \n",
      "[CV]  warm_start=False, n_estimators=10, min_samples_split=4, min_samples_leaf=2, max_features=auto, max_depth=20, bootstrap=True, score=0.870, total=   0.0s\n",
      "[CV] warm_start=False, n_estimators=10, min_samples_split=4, min_samples_leaf=2, max_features=auto, max_depth=20, bootstrap=True \n",
      "[CV]  warm_start=False, n_estimators=10, min_samples_split=4, min_samples_leaf=2, max_features=auto, max_depth=20, bootstrap=True, score=0.826, total=   0.0s\n",
      "[CV] warm_start=False, n_estimators=10, min_samples_split=4, min_samples_leaf=2, max_features=auto, max_depth=20, bootstrap=True \n",
      "[CV]  warm_start=False, n_estimators=10, min_samples_split=4, min_samples_leaf=2, max_features=auto, max_depth=20, bootstrap=True, score=0.733, total=   0.0s\n",
      "[CV] warm_start=False, n_estimators=10, min_samples_split=4, min_samples_leaf=2, max_features=auto, max_depth=20, bootstrap=True \n",
      "[CV]  warm_start=False, n_estimators=10, min_samples_split=4, min_samples_leaf=2, max_features=auto, max_depth=20, bootstrap=True, score=0.756, total=   0.0s\n",
      "[CV] warm_start=False, n_estimators=10, min_samples_split=4, min_samples_leaf=2, max_features=auto, max_depth=20, bootstrap=True \n",
      "[CV]  warm_start=False, n_estimators=10, min_samples_split=4, min_samples_leaf=2, max_features=auto, max_depth=20, bootstrap=True, score=0.800, total=   0.0s\n",
      "[CV] warm_start=False, n_estimators=800, min_samples_split=6, min_samples_leaf=4, max_features=auto, max_depth=5, bootstrap=False \n",
      "[CV]  warm_start=False, n_estimators=800, min_samples_split=6, min_samples_leaf=4, max_features=auto, max_depth=5, bootstrap=False, score=0.891, total=   0.9s\n",
      "[CV] warm_start=False, n_estimators=800, min_samples_split=6, min_samples_leaf=4, max_features=auto, max_depth=5, bootstrap=False \n",
      "[CV]  warm_start=False, n_estimators=800, min_samples_split=6, min_samples_leaf=4, max_features=auto, max_depth=5, bootstrap=False, score=0.826, total=   0.8s\n",
      "[CV] warm_start=False, n_estimators=800, min_samples_split=6, min_samples_leaf=4, max_features=auto, max_depth=5, bootstrap=False \n",
      "[CV]  warm_start=False, n_estimators=800, min_samples_split=6, min_samples_leaf=4, max_features=auto, max_depth=5, bootstrap=False, score=0.711, total=   0.7s\n",
      "[CV] warm_start=False, n_estimators=800, min_samples_split=6, min_samples_leaf=4, max_features=auto, max_depth=5, bootstrap=False \n",
      "[CV]  warm_start=False, n_estimators=800, min_samples_split=6, min_samples_leaf=4, max_features=auto, max_depth=5, bootstrap=False, score=0.844, total=   0.7s\n",
      "[CV] warm_start=False, n_estimators=800, min_samples_split=6, min_samples_leaf=4, max_features=auto, max_depth=5, bootstrap=False \n",
      "[CV]  warm_start=False, n_estimators=800, min_samples_split=6, min_samples_leaf=4, max_features=auto, max_depth=5, bootstrap=False, score=0.800, total=   0.7s\n",
      "[CV] warm_start=True, n_estimators=10, min_samples_split=6, min_samples_leaf=2, max_features=sqrt, max_depth=20, bootstrap=True \n",
      "[CV]  warm_start=True, n_estimators=10, min_samples_split=6, min_samples_leaf=2, max_features=sqrt, max_depth=20, bootstrap=True, score=0.870, total=   0.0s\n",
      "[CV] warm_start=True, n_estimators=10, min_samples_split=6, min_samples_leaf=2, max_features=sqrt, max_depth=20, bootstrap=True \n",
      "[CV]  warm_start=True, n_estimators=10, min_samples_split=6, min_samples_leaf=2, max_features=sqrt, max_depth=20, bootstrap=True, score=0.696, total=   0.0s\n",
      "[CV] warm_start=True, n_estimators=10, min_samples_split=6, min_samples_leaf=2, max_features=sqrt, max_depth=20, bootstrap=True \n",
      "[CV]  warm_start=True, n_estimators=10, min_samples_split=6, min_samples_leaf=2, max_features=sqrt, max_depth=20, bootstrap=True, score=0.711, total=   0.0s\n",
      "[CV] warm_start=True, n_estimators=10, min_samples_split=6, min_samples_leaf=2, max_features=sqrt, max_depth=20, bootstrap=True \n",
      "[CV]  warm_start=True, n_estimators=10, min_samples_split=6, min_samples_leaf=2, max_features=sqrt, max_depth=20, bootstrap=True, score=0.822, total=   0.0s\n",
      "[CV] warm_start=True, n_estimators=10, min_samples_split=6, min_samples_leaf=2, max_features=sqrt, max_depth=20, bootstrap=True \n",
      "[CV]  warm_start=True, n_estimators=10, min_samples_split=6, min_samples_leaf=2, max_features=sqrt, max_depth=20, bootstrap=True, score=0.756, total=   0.0s\n",
      "[CV] warm_start=True, n_estimators=800, min_samples_split=6, min_samples_leaf=1, max_features=sqrt, max_depth=30, bootstrap=False \n",
      "[CV]  warm_start=True, n_estimators=800, min_samples_split=6, min_samples_leaf=1, max_features=sqrt, max_depth=30, bootstrap=False, score=0.870, total=   0.8s\n",
      "[CV] warm_start=True, n_estimators=800, min_samples_split=6, min_samples_leaf=1, max_features=sqrt, max_depth=30, bootstrap=False \n",
      "[CV]  warm_start=True, n_estimators=800, min_samples_split=6, min_samples_leaf=1, max_features=sqrt, max_depth=30, bootstrap=False, score=0.826, total=   1.2s\n",
      "[CV] warm_start=True, n_estimators=800, min_samples_split=6, min_samples_leaf=1, max_features=sqrt, max_depth=30, bootstrap=False \n",
      "[CV]  warm_start=True, n_estimators=800, min_samples_split=6, min_samples_leaf=1, max_features=sqrt, max_depth=30, bootstrap=False, score=0.733, total=   0.8s\n",
      "[CV] warm_start=True, n_estimators=800, min_samples_split=6, min_samples_leaf=1, max_features=sqrt, max_depth=30, bootstrap=False \n",
      "[CV]  warm_start=True, n_estimators=800, min_samples_split=6, min_samples_leaf=1, max_features=sqrt, max_depth=30, bootstrap=False, score=0.867, total=   0.9s\n",
      "[CV] warm_start=True, n_estimators=800, min_samples_split=6, min_samples_leaf=1, max_features=sqrt, max_depth=30, bootstrap=False \n",
      "[CV]  warm_start=True, n_estimators=800, min_samples_split=6, min_samples_leaf=1, max_features=sqrt, max_depth=30, bootstrap=False, score=0.800, total=   0.9s\n",
      "[CV] warm_start=True, n_estimators=800, min_samples_split=6, min_samples_leaf=2, max_features=sqrt, max_depth=10, bootstrap=False \n",
      "[CV]  warm_start=True, n_estimators=800, min_samples_split=6, min_samples_leaf=2, max_features=sqrt, max_depth=10, bootstrap=False, score=0.891, total=   0.8s\n",
      "[CV] warm_start=True, n_estimators=800, min_samples_split=6, min_samples_leaf=2, max_features=sqrt, max_depth=10, bootstrap=False \n",
      "[CV]  warm_start=True, n_estimators=800, min_samples_split=6, min_samples_leaf=2, max_features=sqrt, max_depth=10, bootstrap=False, score=0.826, total=   0.8s\n",
      "[CV] warm_start=True, n_estimators=800, min_samples_split=6, min_samples_leaf=2, max_features=sqrt, max_depth=10, bootstrap=False \n",
      "[CV]  warm_start=True, n_estimators=800, min_samples_split=6, min_samples_leaf=2, max_features=sqrt, max_depth=10, bootstrap=False, score=0.689, total=   0.7s\n",
      "[CV] warm_start=True, n_estimators=800, min_samples_split=6, min_samples_leaf=2, max_features=sqrt, max_depth=10, bootstrap=False \n",
      "[CV]  warm_start=True, n_estimators=800, min_samples_split=6, min_samples_leaf=2, max_features=sqrt, max_depth=10, bootstrap=False, score=0.867, total=   0.8s\n",
      "[CV] warm_start=True, n_estimators=800, min_samples_split=6, min_samples_leaf=2, max_features=sqrt, max_depth=10, bootstrap=False \n",
      "[CV]  warm_start=True, n_estimators=800, min_samples_split=6, min_samples_leaf=2, max_features=sqrt, max_depth=10, bootstrap=False, score=0.800, total=   0.8s\n",
      "[CV] warm_start=True, n_estimators=800, min_samples_split=6, min_samples_leaf=4, max_features=auto, max_depth=30, bootstrap=False \n",
      "[CV]  warm_start=True, n_estimators=800, min_samples_split=6, min_samples_leaf=4, max_features=auto, max_depth=30, bootstrap=False, score=0.891, total=   0.7s\n",
      "[CV] warm_start=True, n_estimators=800, min_samples_split=6, min_samples_leaf=4, max_features=auto, max_depth=30, bootstrap=False \n",
      "[CV]  warm_start=True, n_estimators=800, min_samples_split=6, min_samples_leaf=4, max_features=auto, max_depth=30, bootstrap=False, score=0.826, total=   0.7s\n",
      "[CV] warm_start=True, n_estimators=800, min_samples_split=6, min_samples_leaf=4, max_features=auto, max_depth=30, bootstrap=False \n",
      "[CV]  warm_start=True, n_estimators=800, min_samples_split=6, min_samples_leaf=4, max_features=auto, max_depth=30, bootstrap=False, score=0.711, total=   0.7s\n",
      "[CV] warm_start=True, n_estimators=800, min_samples_split=6, min_samples_leaf=4, max_features=auto, max_depth=30, bootstrap=False \n"
     ]
    },
    {
     "name": "stdout",
     "output_type": "stream",
     "text": [
      "[CV]  warm_start=True, n_estimators=800, min_samples_split=6, min_samples_leaf=4, max_features=auto, max_depth=30, bootstrap=False, score=0.844, total=   0.7s\n",
      "[CV] warm_start=True, n_estimators=800, min_samples_split=6, min_samples_leaf=4, max_features=auto, max_depth=30, bootstrap=False \n",
      "[CV]  warm_start=True, n_estimators=800, min_samples_split=6, min_samples_leaf=4, max_features=auto, max_depth=30, bootstrap=False, score=0.778, total=   0.8s\n",
      "[CV] warm_start=False, n_estimators=100, min_samples_split=2, min_samples_leaf=2, max_features=auto, max_depth=20, bootstrap=False \n",
      "[CV]  warm_start=False, n_estimators=100, min_samples_split=2, min_samples_leaf=2, max_features=auto, max_depth=20, bootstrap=False, score=0.891, total=   0.1s\n",
      "[CV] warm_start=False, n_estimators=100, min_samples_split=2, min_samples_leaf=2, max_features=auto, max_depth=20, bootstrap=False \n",
      "[CV]  warm_start=False, n_estimators=100, min_samples_split=2, min_samples_leaf=2, max_features=auto, max_depth=20, bootstrap=False, score=0.826, total=   0.1s\n",
      "[CV] warm_start=False, n_estimators=100, min_samples_split=2, min_samples_leaf=2, max_features=auto, max_depth=20, bootstrap=False \n",
      "[CV]  warm_start=False, n_estimators=100, min_samples_split=2, min_samples_leaf=2, max_features=auto, max_depth=20, bootstrap=False, score=0.733, total=   0.1s\n",
      "[CV] warm_start=False, n_estimators=100, min_samples_split=2, min_samples_leaf=2, max_features=auto, max_depth=20, bootstrap=False \n",
      "[CV]  warm_start=False, n_estimators=100, min_samples_split=2, min_samples_leaf=2, max_features=auto, max_depth=20, bootstrap=False, score=0.844, total=   0.1s\n",
      "[CV] warm_start=False, n_estimators=100, min_samples_split=2, min_samples_leaf=2, max_features=auto, max_depth=20, bootstrap=False \n",
      "[CV]  warm_start=False, n_estimators=100, min_samples_split=2, min_samples_leaf=2, max_features=auto, max_depth=20, bootstrap=False, score=0.800, total=   0.1s\n",
      "[CV] warm_start=False, n_estimators=400, min_samples_split=6, min_samples_leaf=2, max_features=auto, max_depth=30, bootstrap=True \n",
      "[CV]  warm_start=False, n_estimators=400, min_samples_split=6, min_samples_leaf=2, max_features=auto, max_depth=30, bootstrap=True, score=0.891, total=   0.5s\n",
      "[CV] warm_start=False, n_estimators=400, min_samples_split=6, min_samples_leaf=2, max_features=auto, max_depth=30, bootstrap=True \n",
      "[CV]  warm_start=False, n_estimators=400, min_samples_split=6, min_samples_leaf=2, max_features=auto, max_depth=30, bootstrap=True, score=0.804, total=   0.5s\n",
      "[CV] warm_start=False, n_estimators=400, min_samples_split=6, min_samples_leaf=2, max_features=auto, max_depth=30, bootstrap=True \n",
      "[CV]  warm_start=False, n_estimators=400, min_samples_split=6, min_samples_leaf=2, max_features=auto, max_depth=30, bootstrap=True, score=0.711, total=   0.5s\n",
      "[CV] warm_start=False, n_estimators=400, min_samples_split=6, min_samples_leaf=2, max_features=auto, max_depth=30, bootstrap=True \n",
      "[CV]  warm_start=False, n_estimators=400, min_samples_split=6, min_samples_leaf=2, max_features=auto, max_depth=30, bootstrap=True, score=0.844, total=   0.5s\n",
      "[CV] warm_start=False, n_estimators=400, min_samples_split=6, min_samples_leaf=2, max_features=auto, max_depth=30, bootstrap=True \n",
      "[CV]  warm_start=False, n_estimators=400, min_samples_split=6, min_samples_leaf=2, max_features=auto, max_depth=30, bootstrap=True, score=0.800, total=   0.5s\n",
      "[CV] warm_start=False, n_estimators=1600, min_samples_split=6, min_samples_leaf=1, max_features=sqrt, max_depth=5, bootstrap=True \n",
      "[CV]  warm_start=False, n_estimators=1600, min_samples_split=6, min_samples_leaf=1, max_features=sqrt, max_depth=5, bootstrap=True, score=0.891, total=   1.8s\n",
      "[CV] warm_start=False, n_estimators=1600, min_samples_split=6, min_samples_leaf=1, max_features=sqrt, max_depth=5, bootstrap=True \n",
      "[CV]  warm_start=False, n_estimators=1600, min_samples_split=6, min_samples_leaf=1, max_features=sqrt, max_depth=5, bootstrap=True, score=0.826, total=   2.0s\n",
      "[CV] warm_start=False, n_estimators=1600, min_samples_split=6, min_samples_leaf=1, max_features=sqrt, max_depth=5, bootstrap=True \n",
      "[CV]  warm_start=False, n_estimators=1600, min_samples_split=6, min_samples_leaf=1, max_features=sqrt, max_depth=5, bootstrap=True, score=0.711, total=   1.9s\n",
      "[CV] warm_start=False, n_estimators=1600, min_samples_split=6, min_samples_leaf=1, max_features=sqrt, max_depth=5, bootstrap=True \n",
      "[CV]  warm_start=False, n_estimators=1600, min_samples_split=6, min_samples_leaf=1, max_features=sqrt, max_depth=5, bootstrap=True, score=0.844, total=   2.6s\n",
      "[CV] warm_start=False, n_estimators=1600, min_samples_split=6, min_samples_leaf=1, max_features=sqrt, max_depth=5, bootstrap=True \n",
      "[CV]  warm_start=False, n_estimators=1600, min_samples_split=6, min_samples_leaf=1, max_features=sqrt, max_depth=5, bootstrap=True, score=0.778, total=   2.0s\n",
      "[CV] warm_start=False, n_estimators=200, min_samples_split=6, min_samples_leaf=4, max_features=auto, max_depth=10, bootstrap=True \n",
      "[CV]  warm_start=False, n_estimators=200, min_samples_split=6, min_samples_leaf=4, max_features=auto, max_depth=10, bootstrap=True, score=0.913, total=   0.3s\n",
      "[CV] warm_start=False, n_estimators=200, min_samples_split=6, min_samples_leaf=4, max_features=auto, max_depth=10, bootstrap=True \n",
      "[CV]  warm_start=False, n_estimators=200, min_samples_split=6, min_samples_leaf=4, max_features=auto, max_depth=10, bootstrap=True, score=0.826, total=   0.3s\n",
      "[CV] warm_start=False, n_estimators=200, min_samples_split=6, min_samples_leaf=4, max_features=auto, max_depth=10, bootstrap=True \n",
      "[CV]  warm_start=False, n_estimators=200, min_samples_split=6, min_samples_leaf=4, max_features=auto, max_depth=10, bootstrap=True, score=0.711, total=   0.3s\n",
      "[CV] warm_start=False, n_estimators=200, min_samples_split=6, min_samples_leaf=4, max_features=auto, max_depth=10, bootstrap=True \n",
      "[CV]  warm_start=False, n_estimators=200, min_samples_split=6, min_samples_leaf=4, max_features=auto, max_depth=10, bootstrap=True, score=0.822, total=   0.2s\n",
      "[CV] warm_start=False, n_estimators=200, min_samples_split=6, min_samples_leaf=4, max_features=auto, max_depth=10, bootstrap=True \n",
      "[CV]  warm_start=False, n_estimators=200, min_samples_split=6, min_samples_leaf=4, max_features=auto, max_depth=10, bootstrap=True, score=0.778, total=   0.2s\n",
      "[CV] warm_start=False, n_estimators=400, min_samples_split=2, min_samples_leaf=2, max_features=sqrt, max_depth=20, bootstrap=True \n",
      "[CV]  warm_start=False, n_estimators=400, min_samples_split=2, min_samples_leaf=2, max_features=sqrt, max_depth=20, bootstrap=True, score=0.891, total=   0.5s\n",
      "[CV] warm_start=False, n_estimators=400, min_samples_split=2, min_samples_leaf=2, max_features=sqrt, max_depth=20, bootstrap=True \n",
      "[CV]  warm_start=False, n_estimators=400, min_samples_split=2, min_samples_leaf=2, max_features=sqrt, max_depth=20, bootstrap=True, score=0.826, total=   0.5s\n",
      "[CV] warm_start=False, n_estimators=400, min_samples_split=2, min_samples_leaf=2, max_features=sqrt, max_depth=20, bootstrap=True \n",
      "[CV]  warm_start=False, n_estimators=400, min_samples_split=2, min_samples_leaf=2, max_features=sqrt, max_depth=20, bootstrap=True, score=0.733, total=   0.6s\n",
      "[CV] warm_start=False, n_estimators=400, min_samples_split=2, min_samples_leaf=2, max_features=sqrt, max_depth=20, bootstrap=True \n",
      "[CV]  warm_start=False, n_estimators=400, min_samples_split=2, min_samples_leaf=2, max_features=sqrt, max_depth=20, bootstrap=True, score=0.844, total=   0.6s\n",
      "[CV] warm_start=False, n_estimators=400, min_samples_split=2, min_samples_leaf=2, max_features=sqrt, max_depth=20, bootstrap=True \n",
      "[CV]  warm_start=False, n_estimators=400, min_samples_split=2, min_samples_leaf=2, max_features=sqrt, max_depth=20, bootstrap=True, score=0.778, total=   0.6s\n",
      "[CV] warm_start=False, n_estimators=1600, min_samples_split=2, min_samples_leaf=4, max_features=sqrt, max_depth=30, bootstrap=True \n",
      "[CV]  warm_start=False, n_estimators=1600, min_samples_split=2, min_samples_leaf=4, max_features=sqrt, max_depth=30, bootstrap=True, score=0.891, total=   2.1s\n",
      "[CV] warm_start=False, n_estimators=1600, min_samples_split=2, min_samples_leaf=4, max_features=sqrt, max_depth=30, bootstrap=True \n",
      "[CV]  warm_start=False, n_estimators=1600, min_samples_split=2, min_samples_leaf=4, max_features=sqrt, max_depth=30, bootstrap=True, score=0.826, total=   2.0s\n",
      "[CV] warm_start=False, n_estimators=1600, min_samples_split=2, min_samples_leaf=4, max_features=sqrt, max_depth=30, bootstrap=True \n"
     ]
    },
    {
     "name": "stdout",
     "output_type": "stream",
     "text": [
      "[CV]  warm_start=False, n_estimators=1600, min_samples_split=2, min_samples_leaf=4, max_features=sqrt, max_depth=30, bootstrap=True, score=0.711, total=   2.0s\n",
      "[CV] warm_start=False, n_estimators=1600, min_samples_split=2, min_samples_leaf=4, max_features=sqrt, max_depth=30, bootstrap=True \n",
      "[CV]  warm_start=False, n_estimators=1600, min_samples_split=2, min_samples_leaf=4, max_features=sqrt, max_depth=30, bootstrap=True, score=0.844, total=   2.0s\n",
      "[CV] warm_start=False, n_estimators=1600, min_samples_split=2, min_samples_leaf=4, max_features=sqrt, max_depth=30, bootstrap=True \n",
      "[CV]  warm_start=False, n_estimators=1600, min_samples_split=2, min_samples_leaf=4, max_features=sqrt, max_depth=30, bootstrap=True, score=0.778, total=   2.0s\n",
      "[CV] warm_start=False, n_estimators=800, min_samples_split=4, min_samples_leaf=2, max_features=auto, max_depth=5, bootstrap=True \n",
      "[CV]  warm_start=False, n_estimators=800, min_samples_split=4, min_samples_leaf=2, max_features=auto, max_depth=5, bootstrap=True, score=0.891, total=   1.1s\n",
      "[CV] warm_start=False, n_estimators=800, min_samples_split=4, min_samples_leaf=2, max_features=auto, max_depth=5, bootstrap=True \n",
      "[CV]  warm_start=False, n_estimators=800, min_samples_split=4, min_samples_leaf=2, max_features=auto, max_depth=5, bootstrap=True, score=0.848, total=   1.0s\n",
      "[CV] warm_start=False, n_estimators=800, min_samples_split=4, min_samples_leaf=2, max_features=auto, max_depth=5, bootstrap=True \n",
      "[CV]  warm_start=False, n_estimators=800, min_samples_split=4, min_samples_leaf=2, max_features=auto, max_depth=5, bootstrap=True, score=0.711, total=   1.2s\n",
      "[CV] warm_start=False, n_estimators=800, min_samples_split=4, min_samples_leaf=2, max_features=auto, max_depth=5, bootstrap=True \n",
      "[CV]  warm_start=False, n_estimators=800, min_samples_split=4, min_samples_leaf=2, max_features=auto, max_depth=5, bootstrap=True, score=0.844, total=   1.2s\n",
      "[CV] warm_start=False, n_estimators=800, min_samples_split=4, min_samples_leaf=2, max_features=auto, max_depth=5, bootstrap=True \n",
      "[CV]  warm_start=False, n_estimators=800, min_samples_split=4, min_samples_leaf=2, max_features=auto, max_depth=5, bootstrap=True, score=0.756, total=   1.0s\n",
      "[CV] warm_start=True, n_estimators=100, min_samples_split=6, min_samples_leaf=1, max_features=sqrt, max_depth=20, bootstrap=True \n",
      "[CV]  warm_start=True, n_estimators=100, min_samples_split=6, min_samples_leaf=1, max_features=sqrt, max_depth=20, bootstrap=True, score=0.891, total=   0.1s\n",
      "[CV] warm_start=True, n_estimators=100, min_samples_split=6, min_samples_leaf=1, max_features=sqrt, max_depth=20, bootstrap=True \n",
      "[CV]  warm_start=True, n_estimators=100, min_samples_split=6, min_samples_leaf=1, max_features=sqrt, max_depth=20, bootstrap=True, score=0.804, total=   0.1s\n",
      "[CV] warm_start=True, n_estimators=100, min_samples_split=6, min_samples_leaf=1, max_features=sqrt, max_depth=20, bootstrap=True \n",
      "[CV]  warm_start=True, n_estimators=100, min_samples_split=6, min_samples_leaf=1, max_features=sqrt, max_depth=20, bootstrap=True, score=0.733, total=   0.1s\n",
      "[CV] warm_start=True, n_estimators=100, min_samples_split=6, min_samples_leaf=1, max_features=sqrt, max_depth=20, bootstrap=True \n",
      "[CV]  warm_start=True, n_estimators=100, min_samples_split=6, min_samples_leaf=1, max_features=sqrt, max_depth=20, bootstrap=True, score=0.822, total=   0.1s\n",
      "[CV] warm_start=True, n_estimators=100, min_samples_split=6, min_samples_leaf=1, max_features=sqrt, max_depth=20, bootstrap=True \n",
      "[CV]  warm_start=True, n_estimators=100, min_samples_split=6, min_samples_leaf=1, max_features=sqrt, max_depth=20, bootstrap=True, score=0.778, total=   0.1s\n",
      "[CV] warm_start=True, n_estimators=200, min_samples_split=4, min_samples_leaf=2, max_features=sqrt, max_depth=30, bootstrap=False \n",
      "[CV]  warm_start=True, n_estimators=200, min_samples_split=4, min_samples_leaf=2, max_features=sqrt, max_depth=30, bootstrap=False, score=0.891, total=   0.2s\n",
      "[CV] warm_start=True, n_estimators=200, min_samples_split=4, min_samples_leaf=2, max_features=sqrt, max_depth=30, bootstrap=False \n",
      "[CV]  warm_start=True, n_estimators=200, min_samples_split=4, min_samples_leaf=2, max_features=sqrt, max_depth=30, bootstrap=False, score=0.804, total=   0.2s\n",
      "[CV] warm_start=True, n_estimators=200, min_samples_split=4, min_samples_leaf=2, max_features=sqrt, max_depth=30, bootstrap=False \n",
      "[CV]  warm_start=True, n_estimators=200, min_samples_split=4, min_samples_leaf=2, max_features=sqrt, max_depth=30, bootstrap=False, score=0.711, total=   0.2s\n",
      "[CV] warm_start=True, n_estimators=200, min_samples_split=4, min_samples_leaf=2, max_features=sqrt, max_depth=30, bootstrap=False \n",
      "[CV]  warm_start=True, n_estimators=200, min_samples_split=4, min_samples_leaf=2, max_features=sqrt, max_depth=30, bootstrap=False, score=0.867, total=   0.2s\n",
      "[CV] warm_start=True, n_estimators=200, min_samples_split=4, min_samples_leaf=2, max_features=sqrt, max_depth=30, bootstrap=False \n",
      "[CV]  warm_start=True, n_estimators=200, min_samples_split=4, min_samples_leaf=2, max_features=sqrt, max_depth=30, bootstrap=False, score=0.800, total=   0.2s\n",
      "[CV] warm_start=False, n_estimators=100, min_samples_split=2, min_samples_leaf=2, max_features=auto, max_depth=5, bootstrap=True \n",
      "[CV]  warm_start=False, n_estimators=100, min_samples_split=2, min_samples_leaf=2, max_features=auto, max_depth=5, bootstrap=True, score=0.913, total=   0.1s\n",
      "[CV] warm_start=False, n_estimators=100, min_samples_split=2, min_samples_leaf=2, max_features=auto, max_depth=5, bootstrap=True \n",
      "[CV]  warm_start=False, n_estimators=100, min_samples_split=2, min_samples_leaf=2, max_features=auto, max_depth=5, bootstrap=True, score=0.826, total=   0.1s\n",
      "[CV] warm_start=False, n_estimators=100, min_samples_split=2, min_samples_leaf=2, max_features=auto, max_depth=5, bootstrap=True \n",
      "[CV]  warm_start=False, n_estimators=100, min_samples_split=2, min_samples_leaf=2, max_features=auto, max_depth=5, bootstrap=True, score=0.689, total=   0.1s\n",
      "[CV] warm_start=False, n_estimators=100, min_samples_split=2, min_samples_leaf=2, max_features=auto, max_depth=5, bootstrap=True \n",
      "[CV]  warm_start=False, n_estimators=100, min_samples_split=2, min_samples_leaf=2, max_features=auto, max_depth=5, bootstrap=True, score=0.844, total=   0.1s\n",
      "[CV] warm_start=False, n_estimators=100, min_samples_split=2, min_samples_leaf=2, max_features=auto, max_depth=5, bootstrap=True \n",
      "[CV]  warm_start=False, n_estimators=100, min_samples_split=2, min_samples_leaf=2, max_features=auto, max_depth=5, bootstrap=True, score=0.756, total=   0.1s\n",
      "[CV] warm_start=True, n_estimators=10, min_samples_split=4, min_samples_leaf=4, max_features=sqrt, max_depth=10, bootstrap=True \n",
      "[CV]  warm_start=True, n_estimators=10, min_samples_split=4, min_samples_leaf=4, max_features=sqrt, max_depth=10, bootstrap=True, score=0.870, total=   0.0s\n",
      "[CV] warm_start=True, n_estimators=10, min_samples_split=4, min_samples_leaf=4, max_features=sqrt, max_depth=10, bootstrap=True \n",
      "[CV]  warm_start=True, n_estimators=10, min_samples_split=4, min_samples_leaf=4, max_features=sqrt, max_depth=10, bootstrap=True, score=0.804, total=   0.0s\n",
      "[CV] warm_start=True, n_estimators=10, min_samples_split=4, min_samples_leaf=4, max_features=sqrt, max_depth=10, bootstrap=True \n",
      "[CV]  warm_start=True, n_estimators=10, min_samples_split=4, min_samples_leaf=4, max_features=sqrt, max_depth=10, bootstrap=True, score=0.733, total=   0.0s\n",
      "[CV] warm_start=True, n_estimators=10, min_samples_split=4, min_samples_leaf=4, max_features=sqrt, max_depth=10, bootstrap=True \n",
      "[CV]  warm_start=True, n_estimators=10, min_samples_split=4, min_samples_leaf=4, max_features=sqrt, max_depth=10, bootstrap=True, score=0.778, total=   0.0s\n",
      "[CV] warm_start=True, n_estimators=10, min_samples_split=4, min_samples_leaf=4, max_features=sqrt, max_depth=10, bootstrap=True \n",
      "[CV]  warm_start=True, n_estimators=10, min_samples_split=4, min_samples_leaf=4, max_features=sqrt, max_depth=10, bootstrap=True, score=0.756, total=   0.0s\n",
      "[CV] warm_start=True, n_estimators=10, min_samples_split=2, min_samples_leaf=1, max_features=auto, max_depth=5, bootstrap=True \n",
      "[CV]  warm_start=True, n_estimators=10, min_samples_split=2, min_samples_leaf=1, max_features=auto, max_depth=5, bootstrap=True, score=0.891, total=   0.0s\n",
      "[CV] warm_start=True, n_estimators=10, min_samples_split=2, min_samples_leaf=1, max_features=auto, max_depth=5, bootstrap=True \n",
      "[CV]  warm_start=True, n_estimators=10, min_samples_split=2, min_samples_leaf=1, max_features=auto, max_depth=5, bootstrap=True, score=0.848, total=   0.0s\n",
      "[CV] warm_start=True, n_estimators=10, min_samples_split=2, min_samples_leaf=1, max_features=auto, max_depth=5, bootstrap=True \n",
      "[CV]  warm_start=True, n_estimators=10, min_samples_split=2, min_samples_leaf=1, max_features=auto, max_depth=5, bootstrap=True, score=0.733, total=   0.0s\n",
      "[CV] warm_start=True, n_estimators=10, min_samples_split=2, min_samples_leaf=1, max_features=auto, max_depth=5, bootstrap=True \n",
      "[CV]  warm_start=True, n_estimators=10, min_samples_split=2, min_samples_leaf=1, max_features=auto, max_depth=5, bootstrap=True, score=0.800, total=   0.0s\n",
      "[CV] warm_start=True, n_estimators=10, min_samples_split=2, min_samples_leaf=1, max_features=auto, max_depth=5, bootstrap=True \n",
      "[CV]  warm_start=True, n_estimators=10, min_samples_split=2, min_samples_leaf=1, max_features=auto, max_depth=5, bootstrap=True, score=0.733, total=   0.0s\n",
      "[CV] warm_start=False, n_estimators=1600, min_samples_split=4, min_samples_leaf=1, max_features=sqrt, max_depth=30, bootstrap=True \n"
     ]
    },
    {
     "name": "stdout",
     "output_type": "stream",
     "text": [
      "[CV]  warm_start=False, n_estimators=1600, min_samples_split=4, min_samples_leaf=1, max_features=sqrt, max_depth=30, bootstrap=True, score=0.891, total=   2.0s\n",
      "[CV] warm_start=False, n_estimators=1600, min_samples_split=4, min_samples_leaf=1, max_features=sqrt, max_depth=30, bootstrap=True \n",
      "[CV]  warm_start=False, n_estimators=1600, min_samples_split=4, min_samples_leaf=1, max_features=sqrt, max_depth=30, bootstrap=True, score=0.804, total=   2.0s\n",
      "[CV] warm_start=False, n_estimators=1600, min_samples_split=4, min_samples_leaf=1, max_features=sqrt, max_depth=30, bootstrap=True \n",
      "[CV]  warm_start=False, n_estimators=1600, min_samples_split=4, min_samples_leaf=1, max_features=sqrt, max_depth=30, bootstrap=True, score=0.711, total=   2.1s\n",
      "[CV] warm_start=False, n_estimators=1600, min_samples_split=4, min_samples_leaf=1, max_features=sqrt, max_depth=30, bootstrap=True \n",
      "[CV]  warm_start=False, n_estimators=1600, min_samples_split=4, min_samples_leaf=1, max_features=sqrt, max_depth=30, bootstrap=True, score=0.844, total=   2.1s\n",
      "[CV] warm_start=False, n_estimators=1600, min_samples_split=4, min_samples_leaf=1, max_features=sqrt, max_depth=30, bootstrap=True \n",
      "[CV]  warm_start=False, n_estimators=1600, min_samples_split=4, min_samples_leaf=1, max_features=sqrt, max_depth=30, bootstrap=True, score=0.800, total=   2.2s\n",
      "[CV] warm_start=False, n_estimators=10, min_samples_split=4, min_samples_leaf=4, max_features=auto, max_depth=5, bootstrap=True \n",
      "[CV]  warm_start=False, n_estimators=10, min_samples_split=4, min_samples_leaf=4, max_features=auto, max_depth=5, bootstrap=True, score=0.870, total=   0.0s\n",
      "[CV] warm_start=False, n_estimators=10, min_samples_split=4, min_samples_leaf=4, max_features=auto, max_depth=5, bootstrap=True \n",
      "[CV]  warm_start=False, n_estimators=10, min_samples_split=4, min_samples_leaf=4, max_features=auto, max_depth=5, bootstrap=True, score=0.804, total=   0.0s\n",
      "[CV] warm_start=False, n_estimators=10, min_samples_split=4, min_samples_leaf=4, max_features=auto, max_depth=5, bootstrap=True \n",
      "[CV]  warm_start=False, n_estimators=10, min_samples_split=4, min_samples_leaf=4, max_features=auto, max_depth=5, bootstrap=True, score=0.733, total=   0.0s\n",
      "[CV] warm_start=False, n_estimators=10, min_samples_split=4, min_samples_leaf=4, max_features=auto, max_depth=5, bootstrap=True \n",
      "[CV]  warm_start=False, n_estimators=10, min_samples_split=4, min_samples_leaf=4, max_features=auto, max_depth=5, bootstrap=True, score=0.778, total=   0.0s\n",
      "[CV] warm_start=False, n_estimators=10, min_samples_split=4, min_samples_leaf=4, max_features=auto, max_depth=5, bootstrap=True \n",
      "[CV]  warm_start=False, n_estimators=10, min_samples_split=4, min_samples_leaf=4, max_features=auto, max_depth=5, bootstrap=True, score=0.822, total=   0.0s\n"
     ]
    },
    {
     "name": "stderr",
     "output_type": "stream",
     "text": [
      "[Parallel(n_jobs=1)]: Done 125 out of 125 | elapsed:  1.3min finished\n"
     ]
    },
    {
     "name": "stdout",
     "output_type": "stream",
     "text": [
      "RandomForestClassifier(bootstrap=False, max_depth=20, max_features='sqrt',\n",
      "                       min_samples_split=4, n_estimators=1600)\n",
      "0.8289473684210527\n",
      "0.8191304347826087\n"
     ]
    }
   ],
   "source": [
    "grid = {\n",
    "    \"n_estimators\":[10,100,200,400,800,1600],\n",
    "    \"max_depth\":[None,5,10,20,30],\n",
    "    \"max_features\":[\"auto\",\"sqrt\"],\n",
    "    \"min_samples_split\":[2,4,6],\n",
    "    \"min_samples_leaf\":[1,2,4],\n",
    "    'bootstrap':[False,True],\n",
    "    'warm_start':[False,True]\n",
    "}\n",
    "model_rs = RandomForestClassifier()\n",
    "rs = RandomizedSearchCV(estimator=model_rs,param_distributions=grid,cv=5,n_iter=25,verbose=25)\n",
    "rs.fit(X_train,y_train)\n",
    "print(rs.best_estimator_)\n",
    "print(rs.score(X_test,y_test))\n",
    "print(rs.best_score_)\n",
    "import pickle\n",
    "pickle.dump(rs,open('./model_random.pkl','wb'))"
   ]
  },
  {
   "cell_type": "code",
   "execution_count": 29,
   "metadata": {},
   "outputs": [
    {
     "name": "stdout",
     "output_type": "stream",
     "text": [
      "Done\n"
     ]
    }
   ],
   "source": [
    "print('Done')"
   ]
  },
  {
   "cell_type": "code",
   "execution_count": null,
   "metadata": {},
   "outputs": [
    {
     "name": "stdout",
     "output_type": "stream",
     "text": [
      "Fitting 2 folds for each of 120 candidates, totalling 240 fits\n",
      "[CV] max_depth=None, max_features=auto, min_samples_leaf=2, min_samples_split=2, n_estimators=100 \n",
      "[CV]  max_depth=None, max_features=auto, min_samples_leaf=2, min_samples_split=2, n_estimators=100, score=0.789, total=   0.2s\n",
      "[CV] max_depth=None, max_features=auto, min_samples_leaf=2, min_samples_split=2, n_estimators=100 \n"
     ]
    },
    {
     "name": "stderr",
     "output_type": "stream",
     "text": [
      "[Parallel(n_jobs=1)]: Using backend SequentialBackend with 1 concurrent workers.\n",
      "[Parallel(n_jobs=1)]: Done   1 out of   1 | elapsed:    0.2s remaining:    0.0s\n"
     ]
    },
    {
     "name": "stdout",
     "output_type": "stream",
     "text": [
      "[CV]  max_depth=None, max_features=auto, min_samples_leaf=2, min_samples_split=2, n_estimators=100, score=0.788, total=   0.1s\n",
      "[CV] max_depth=None, max_features=auto, min_samples_leaf=2, min_samples_split=2, n_estimators=125 \n",
      "[CV]  max_depth=None, max_features=auto, min_samples_leaf=2, min_samples_split=2, n_estimators=125, score=0.833, total=   0.2s\n",
      "[CV] max_depth=None, max_features=auto, min_samples_leaf=2, min_samples_split=2, n_estimators=125 \n"
     ]
    },
    {
     "name": "stderr",
     "output_type": "stream",
     "text": [
      "[Parallel(n_jobs=1)]: Done   2 out of   2 | elapsed:    0.3s remaining:    0.0s\n",
      "[Parallel(n_jobs=1)]: Done   3 out of   3 | elapsed:    0.5s remaining:    0.0s\n"
     ]
    },
    {
     "name": "stdout",
     "output_type": "stream",
     "text": [
      "[CV]  max_depth=None, max_features=auto, min_samples_leaf=2, min_samples_split=2, n_estimators=125, score=0.788, total=   0.2s\n",
      "[CV] max_depth=None, max_features=auto, min_samples_leaf=2, min_samples_split=2, n_estimators=250 \n"
     ]
    },
    {
     "name": "stderr",
     "output_type": "stream",
     "text": [
      "[Parallel(n_jobs=1)]: Done   4 out of   4 | elapsed:    0.6s remaining:    0.0s\n"
     ]
    },
    {
     "name": "stdout",
     "output_type": "stream",
     "text": [
      "[CV]  max_depth=None, max_features=auto, min_samples_leaf=2, min_samples_split=2, n_estimators=250, score=0.816, total=   0.3s\n",
      "[CV] max_depth=None, max_features=auto, min_samples_leaf=2, min_samples_split=2, n_estimators=250 \n"
     ]
    },
    {
     "name": "stderr",
     "output_type": "stream",
     "text": [
      "[Parallel(n_jobs=1)]: Done   5 out of   5 | elapsed:    0.9s remaining:    0.0s\n"
     ]
    },
    {
     "name": "stdout",
     "output_type": "stream",
     "text": [
      "[CV]  max_depth=None, max_features=auto, min_samples_leaf=2, min_samples_split=2, n_estimators=250, score=0.805, total=   0.3s\n",
      "[CV] max_depth=None, max_features=auto, min_samples_leaf=2, min_samples_split=2, n_estimators=500 \n"
     ]
    },
    {
     "name": "stderr",
     "output_type": "stream",
     "text": [
      "[Parallel(n_jobs=1)]: Done   6 out of   6 | elapsed:    1.3s remaining:    0.0s\n"
     ]
    },
    {
     "name": "stdout",
     "output_type": "stream",
     "text": [
      "[CV]  max_depth=None, max_features=auto, min_samples_leaf=2, min_samples_split=2, n_estimators=500, score=0.825, total=   0.7s\n",
      "[CV] max_depth=None, max_features=auto, min_samples_leaf=2, min_samples_split=2, n_estimators=500 \n"
     ]
    },
    {
     "name": "stderr",
     "output_type": "stream",
     "text": [
      "[Parallel(n_jobs=1)]: Done   7 out of   7 | elapsed:    1.9s remaining:    0.0s\n"
     ]
    },
    {
     "name": "stdout",
     "output_type": "stream",
     "text": [
      "[CV]  max_depth=None, max_features=auto, min_samples_leaf=2, min_samples_split=2, n_estimators=500, score=0.788, total=   0.7s\n",
      "[CV] max_depth=None, max_features=auto, min_samples_leaf=2, min_samples_split=2, n_estimators=1000 \n"
     ]
    },
    {
     "name": "stderr",
     "output_type": "stream",
     "text": [
      "[Parallel(n_jobs=1)]: Done   8 out of   8 | elapsed:    2.6s remaining:    0.0s\n"
     ]
    },
    {
     "name": "stdout",
     "output_type": "stream",
     "text": [
      "[CV]  max_depth=None, max_features=auto, min_samples_leaf=2, min_samples_split=2, n_estimators=1000, score=0.807, total=   1.7s\n",
      "[CV] max_depth=None, max_features=auto, min_samples_leaf=2, min_samples_split=2, n_estimators=1000 \n"
     ]
    },
    {
     "name": "stderr",
     "output_type": "stream",
     "text": [
      "[Parallel(n_jobs=1)]: Done   9 out of   9 | elapsed:    4.3s remaining:    0.0s\n"
     ]
    },
    {
     "name": "stdout",
     "output_type": "stream",
     "text": [
      "[CV]  max_depth=None, max_features=auto, min_samples_leaf=2, min_samples_split=2, n_estimators=1000, score=0.788, total=   1.4s\n",
      "[CV] max_depth=None, max_features=auto, min_samples_leaf=2, min_samples_split=4, n_estimators=100 \n",
      "[CV]  max_depth=None, max_features=auto, min_samples_leaf=2, min_samples_split=4, n_estimators=100, score=0.807, total=   0.1s\n",
      "[CV] max_depth=None, max_features=auto, min_samples_leaf=2, min_samples_split=4, n_estimators=100 \n"
     ]
    },
    {
     "name": "stderr",
     "output_type": "stream",
     "text": [
      "[Parallel(n_jobs=1)]: Done  10 out of  10 | elapsed:    5.8s remaining:    0.0s\n",
      "[Parallel(n_jobs=1)]: Done  11 out of  11 | elapsed:    5.9s remaining:    0.0s\n"
     ]
    },
    {
     "name": "stdout",
     "output_type": "stream",
     "text": [
      "[CV]  max_depth=None, max_features=auto, min_samples_leaf=2, min_samples_split=4, n_estimators=100, score=0.796, total=   0.2s\n",
      "[CV] max_depth=None, max_features=auto, min_samples_leaf=2, min_samples_split=4, n_estimators=125 \n",
      "[CV]  max_depth=None, max_features=auto, min_samples_leaf=2, min_samples_split=4, n_estimators=125, score=0.825, total=   0.2s\n",
      "[CV] max_depth=None, max_features=auto, min_samples_leaf=2, min_samples_split=4, n_estimators=125 \n"
     ]
    },
    {
     "name": "stderr",
     "output_type": "stream",
     "text": [
      "[Parallel(n_jobs=1)]: Done  12 out of  12 | elapsed:    6.1s remaining:    0.0s\n",
      "[Parallel(n_jobs=1)]: Done  13 out of  13 | elapsed:    6.2s remaining:    0.0s\n"
     ]
    },
    {
     "name": "stdout",
     "output_type": "stream",
     "text": [
      "[CV]  max_depth=None, max_features=auto, min_samples_leaf=2, min_samples_split=4, n_estimators=125, score=0.788, total=   0.2s\n",
      "[CV] max_depth=None, max_features=auto, min_samples_leaf=2, min_samples_split=4, n_estimators=250 \n"
     ]
    },
    {
     "name": "stderr",
     "output_type": "stream",
     "text": [
      "[Parallel(n_jobs=1)]: Done  14 out of  14 | elapsed:    6.4s remaining:    0.0s\n"
     ]
    },
    {
     "name": "stdout",
     "output_type": "stream",
     "text": [
      "[CV]  max_depth=None, max_features=auto, min_samples_leaf=2, min_samples_split=4, n_estimators=250, score=0.825, total=   0.4s\n",
      "[CV] max_depth=None, max_features=auto, min_samples_leaf=2, min_samples_split=4, n_estimators=250 \n"
     ]
    },
    {
     "name": "stderr",
     "output_type": "stream",
     "text": [
      "[Parallel(n_jobs=1)]: Done  15 out of  15 | elapsed:    6.8s remaining:    0.0s\n"
     ]
    },
    {
     "name": "stdout",
     "output_type": "stream",
     "text": [
      "[CV]  max_depth=None, max_features=auto, min_samples_leaf=2, min_samples_split=4, n_estimators=250, score=0.796, total=   0.3s\n",
      "[CV] max_depth=None, max_features=auto, min_samples_leaf=2, min_samples_split=4, n_estimators=500 \n"
     ]
    },
    {
     "name": "stderr",
     "output_type": "stream",
     "text": [
      "[Parallel(n_jobs=1)]: Done  16 out of  16 | elapsed:    7.1s remaining:    0.0s\n"
     ]
    },
    {
     "name": "stdout",
     "output_type": "stream",
     "text": [
      "[CV]  max_depth=None, max_features=auto, min_samples_leaf=2, min_samples_split=4, n_estimators=500, score=0.807, total=   0.6s\n",
      "[CV] max_depth=None, max_features=auto, min_samples_leaf=2, min_samples_split=4, n_estimators=500 \n"
     ]
    },
    {
     "name": "stderr",
     "output_type": "stream",
     "text": [
      "[Parallel(n_jobs=1)]: Done  17 out of  17 | elapsed:    7.7s remaining:    0.0s\n"
     ]
    },
    {
     "name": "stdout",
     "output_type": "stream",
     "text": [
      "[CV]  max_depth=None, max_features=auto, min_samples_leaf=2, min_samples_split=4, n_estimators=500, score=0.779, total=   0.6s\n",
      "[CV] max_depth=None, max_features=auto, min_samples_leaf=2, min_samples_split=4, n_estimators=1000 \n"
     ]
    },
    {
     "name": "stderr",
     "output_type": "stream",
     "text": [
      "[Parallel(n_jobs=1)]: Done  18 out of  18 | elapsed:    8.4s remaining:    0.0s\n"
     ]
    },
    {
     "name": "stdout",
     "output_type": "stream",
     "text": [
      "[CV]  max_depth=None, max_features=auto, min_samples_leaf=2, min_samples_split=4, n_estimators=1000, score=0.789, total=   1.2s\n",
      "[CV] max_depth=None, max_features=auto, min_samples_leaf=2, min_samples_split=4, n_estimators=1000 \n"
     ]
    },
    {
     "name": "stderr",
     "output_type": "stream",
     "text": [
      "[Parallel(n_jobs=1)]: Done  19 out of  19 | elapsed:    9.6s remaining:    0.0s\n"
     ]
    },
    {
     "name": "stdout",
     "output_type": "stream",
     "text": [
      "[CV]  max_depth=None, max_features=auto, min_samples_leaf=2, min_samples_split=4, n_estimators=1000, score=0.788, total=   1.2s\n",
      "[CV] max_depth=None, max_features=auto, min_samples_leaf=4, min_samples_split=2, n_estimators=100 \n",
      "[CV]  max_depth=None, max_features=auto, min_samples_leaf=4, min_samples_split=2, n_estimators=100, score=0.807, total=   0.1s\n",
      "[CV] max_depth=None, max_features=auto, min_samples_leaf=4, min_samples_split=2, n_estimators=100 \n"
     ]
    },
    {
     "name": "stderr",
     "output_type": "stream",
     "text": [
      "[Parallel(n_jobs=1)]: Done  20 out of  20 | elapsed:   10.8s remaining:    0.0s\n",
      "[Parallel(n_jobs=1)]: Done  21 out of  21 | elapsed:   10.9s remaining:    0.0s\n"
     ]
    },
    {
     "name": "stdout",
     "output_type": "stream",
     "text": [
      "[CV]  max_depth=None, max_features=auto, min_samples_leaf=4, min_samples_split=2, n_estimators=100, score=0.788, total=   0.1s\n",
      "[CV] max_depth=None, max_features=auto, min_samples_leaf=4, min_samples_split=2, n_estimators=125 \n",
      "[CV]  max_depth=None, max_features=auto, min_samples_leaf=4, min_samples_split=2, n_estimators=125, score=0.789, total=   0.2s\n",
      "[CV] max_depth=None, max_features=auto, min_samples_leaf=4, min_samples_split=2, n_estimators=125 \n"
     ]
    },
    {
     "name": "stderr",
     "output_type": "stream",
     "text": [
      "[Parallel(n_jobs=1)]: Done  22 out of  22 | elapsed:   11.1s remaining:    0.0s\n",
      "[Parallel(n_jobs=1)]: Done  23 out of  23 | elapsed:   11.2s remaining:    0.0s\n"
     ]
    },
    {
     "name": "stdout",
     "output_type": "stream",
     "text": [
      "[CV]  max_depth=None, max_features=auto, min_samples_leaf=4, min_samples_split=2, n_estimators=125, score=0.788, total=   0.2s\n",
      "[CV] max_depth=None, max_features=auto, min_samples_leaf=4, min_samples_split=2, n_estimators=250 \n"
     ]
    },
    {
     "name": "stderr",
     "output_type": "stream",
     "text": [
      "[Parallel(n_jobs=1)]: Done  24 out of  24 | elapsed:   11.4s remaining:    0.0s\n"
     ]
    },
    {
     "name": "stdout",
     "output_type": "stream",
     "text": [
      "[CV]  max_depth=None, max_features=auto, min_samples_leaf=4, min_samples_split=2, n_estimators=250, score=0.816, total=   0.3s\n",
      "[CV] max_depth=None, max_features=auto, min_samples_leaf=4, min_samples_split=2, n_estimators=250 \n",
      "[CV]  max_depth=None, max_features=auto, min_samples_leaf=4, min_samples_split=2, n_estimators=250, score=0.796, total=   0.3s\n",
      "[CV] max_depth=None, max_features=auto, min_samples_leaf=4, min_samples_split=2, n_estimators=500 \n",
      "[CV]  max_depth=None, max_features=auto, min_samples_leaf=4, min_samples_split=2, n_estimators=500, score=0.807, total=   0.7s\n",
      "[CV] max_depth=None, max_features=auto, min_samples_leaf=4, min_samples_split=2, n_estimators=500 \n",
      "[CV]  max_depth=None, max_features=auto, min_samples_leaf=4, min_samples_split=2, n_estimators=500, score=0.788, total=   0.6s\n",
      "[CV] max_depth=None, max_features=auto, min_samples_leaf=4, min_samples_split=2, n_estimators=1000 \n",
      "[CV]  max_depth=None, max_features=auto, min_samples_leaf=4, min_samples_split=2, n_estimators=1000, score=0.807, total=   1.2s\n",
      "[CV] max_depth=None, max_features=auto, min_samples_leaf=4, min_samples_split=2, n_estimators=1000 \n",
      "[CV]  max_depth=None, max_features=auto, min_samples_leaf=4, min_samples_split=2, n_estimators=1000, score=0.788, total=   1.1s\n",
      "[CV] max_depth=None, max_features=auto, min_samples_leaf=4, min_samples_split=4, n_estimators=100 \n",
      "[CV]  max_depth=None, max_features=auto, min_samples_leaf=4, min_samples_split=4, n_estimators=100, score=0.807, total=   0.1s\n",
      "[CV] max_depth=None, max_features=auto, min_samples_leaf=4, min_samples_split=4, n_estimators=100 \n",
      "[CV]  max_depth=None, max_features=auto, min_samples_leaf=4, min_samples_split=4, n_estimators=100, score=0.788, total=   0.1s\n",
      "[CV] max_depth=None, max_features=auto, min_samples_leaf=4, min_samples_split=4, n_estimators=125 \n",
      "[CV]  max_depth=None, max_features=auto, min_samples_leaf=4, min_samples_split=4, n_estimators=125, score=0.807, total=   0.2s\n",
      "[CV] max_depth=None, max_features=auto, min_samples_leaf=4, min_samples_split=4, n_estimators=125 \n",
      "[CV]  max_depth=None, max_features=auto, min_samples_leaf=4, min_samples_split=4, n_estimators=125, score=0.805, total=   0.2s\n",
      "[CV] max_depth=None, max_features=auto, min_samples_leaf=4, min_samples_split=4, n_estimators=250 \n",
      "[CV]  max_depth=None, max_features=auto, min_samples_leaf=4, min_samples_split=4, n_estimators=250, score=0.781, total=   0.3s\n",
      "[CV] max_depth=None, max_features=auto, min_samples_leaf=4, min_samples_split=4, n_estimators=250 \n",
      "[CV]  max_depth=None, max_features=auto, min_samples_leaf=4, min_samples_split=4, n_estimators=250, score=0.796, total=   0.3s\n",
      "[CV] max_depth=None, max_features=auto, min_samples_leaf=4, min_samples_split=4, n_estimators=500 \n",
      "[CV]  max_depth=None, max_features=auto, min_samples_leaf=4, min_samples_split=4, n_estimators=500, score=0.798, total=   0.6s\n",
      "[CV] max_depth=None, max_features=auto, min_samples_leaf=4, min_samples_split=4, n_estimators=500 \n",
      "[CV]  max_depth=None, max_features=auto, min_samples_leaf=4, min_samples_split=4, n_estimators=500, score=0.788, total=   0.6s\n",
      "[CV] max_depth=None, max_features=auto, min_samples_leaf=4, min_samples_split=4, n_estimators=1000 \n",
      "[CV]  max_depth=None, max_features=auto, min_samples_leaf=4, min_samples_split=4, n_estimators=1000, score=0.816, total=   1.2s\n",
      "[CV] max_depth=None, max_features=auto, min_samples_leaf=4, min_samples_split=4, n_estimators=1000 \n",
      "[CV]  max_depth=None, max_features=auto, min_samples_leaf=4, min_samples_split=4, n_estimators=1000, score=0.796, total=   1.2s\n",
      "[CV] max_depth=None, max_features=sqrt, min_samples_leaf=2, min_samples_split=2, n_estimators=100 \n",
      "[CV]  max_depth=None, max_features=sqrt, min_samples_leaf=2, min_samples_split=2, n_estimators=100, score=0.816, total=   0.1s\n",
      "[CV] max_depth=None, max_features=sqrt, min_samples_leaf=2, min_samples_split=2, n_estimators=100 \n",
      "[CV]  max_depth=None, max_features=sqrt, min_samples_leaf=2, min_samples_split=2, n_estimators=100, score=0.796, total=   0.1s\n",
      "[CV] max_depth=None, max_features=sqrt, min_samples_leaf=2, min_samples_split=2, n_estimators=125 \n",
      "[CV]  max_depth=None, max_features=sqrt, min_samples_leaf=2, min_samples_split=2, n_estimators=125, score=0.798, total=   0.2s\n",
      "[CV] max_depth=None, max_features=sqrt, min_samples_leaf=2, min_samples_split=2, n_estimators=125 \n",
      "[CV]  max_depth=None, max_features=sqrt, min_samples_leaf=2, min_samples_split=2, n_estimators=125, score=0.788, total=   0.2s\n",
      "[CV] max_depth=None, max_features=sqrt, min_samples_leaf=2, min_samples_split=2, n_estimators=250 \n",
      "[CV]  max_depth=None, max_features=sqrt, min_samples_leaf=2, min_samples_split=2, n_estimators=250, score=0.833, total=   0.3s\n",
      "[CV] max_depth=None, max_features=sqrt, min_samples_leaf=2, min_samples_split=2, n_estimators=250 \n",
      "[CV]  max_depth=None, max_features=sqrt, min_samples_leaf=2, min_samples_split=2, n_estimators=250, score=0.788, total=   0.3s\n",
      "[CV] max_depth=None, max_features=sqrt, min_samples_leaf=2, min_samples_split=2, n_estimators=500 \n",
      "[CV]  max_depth=None, max_features=sqrt, min_samples_leaf=2, min_samples_split=2, n_estimators=500, score=0.798, total=   0.6s\n",
      "[CV] max_depth=None, max_features=sqrt, min_samples_leaf=2, min_samples_split=2, n_estimators=500 \n",
      "[CV]  max_depth=None, max_features=sqrt, min_samples_leaf=2, min_samples_split=2, n_estimators=500, score=0.788, total=   0.6s\n",
      "[CV] max_depth=None, max_features=sqrt, min_samples_leaf=2, min_samples_split=2, n_estimators=1000 \n",
      "[CV]  max_depth=None, max_features=sqrt, min_samples_leaf=2, min_samples_split=2, n_estimators=1000, score=0.781, total=   1.1s\n",
      "[CV] max_depth=None, max_features=sqrt, min_samples_leaf=2, min_samples_split=2, n_estimators=1000 \n",
      "[CV]  max_depth=None, max_features=sqrt, min_samples_leaf=2, min_samples_split=2, n_estimators=1000, score=0.788, total=   1.3s\n",
      "[CV] max_depth=None, max_features=sqrt, min_samples_leaf=2, min_samples_split=4, n_estimators=100 \n",
      "[CV]  max_depth=None, max_features=sqrt, min_samples_leaf=2, min_samples_split=4, n_estimators=100, score=0.825, total=   0.2s\n",
      "[CV] max_depth=None, max_features=sqrt, min_samples_leaf=2, min_samples_split=4, n_estimators=100 \n",
      "[CV]  max_depth=None, max_features=sqrt, min_samples_leaf=2, min_samples_split=4, n_estimators=100, score=0.805, total=   0.2s\n",
      "[CV] max_depth=None, max_features=sqrt, min_samples_leaf=2, min_samples_split=4, n_estimators=125 \n",
      "[CV]  max_depth=None, max_features=sqrt, min_samples_leaf=2, min_samples_split=4, n_estimators=125, score=0.798, total=   0.3s\n",
      "[CV] max_depth=None, max_features=sqrt, min_samples_leaf=2, min_samples_split=4, n_estimators=125 \n",
      "[CV]  max_depth=None, max_features=sqrt, min_samples_leaf=2, min_samples_split=4, n_estimators=125, score=0.779, total=   0.1s\n",
      "[CV] max_depth=None, max_features=sqrt, min_samples_leaf=2, min_samples_split=4, n_estimators=250 \n",
      "[CV]  max_depth=None, max_features=sqrt, min_samples_leaf=2, min_samples_split=4, n_estimators=250, score=0.789, total=   0.3s\n",
      "[CV] max_depth=None, max_features=sqrt, min_samples_leaf=2, min_samples_split=4, n_estimators=250 \n",
      "[CV]  max_depth=None, max_features=sqrt, min_samples_leaf=2, min_samples_split=4, n_estimators=250, score=0.788, total=   0.3s\n",
      "[CV] max_depth=None, max_features=sqrt, min_samples_leaf=2, min_samples_split=4, n_estimators=500 \n",
      "[CV]  max_depth=None, max_features=sqrt, min_samples_leaf=2, min_samples_split=4, n_estimators=500, score=0.816, total=   0.6s\n",
      "[CV] max_depth=None, max_features=sqrt, min_samples_leaf=2, min_samples_split=4, n_estimators=500 \n",
      "[CV]  max_depth=None, max_features=sqrt, min_samples_leaf=2, min_samples_split=4, n_estimators=500, score=0.788, total=   0.6s\n",
      "[CV] max_depth=None, max_features=sqrt, min_samples_leaf=2, min_samples_split=4, n_estimators=1000 \n",
      "[CV]  max_depth=None, max_features=sqrt, min_samples_leaf=2, min_samples_split=4, n_estimators=1000, score=0.807, total=   1.1s\n",
      "[CV] max_depth=None, max_features=sqrt, min_samples_leaf=2, min_samples_split=4, n_estimators=1000 \n",
      "[CV]  max_depth=None, max_features=sqrt, min_samples_leaf=2, min_samples_split=4, n_estimators=1000, score=0.788, total=   1.1s\n",
      "[CV] max_depth=None, max_features=sqrt, min_samples_leaf=4, min_samples_split=2, n_estimators=100 \n",
      "[CV]  max_depth=None, max_features=sqrt, min_samples_leaf=4, min_samples_split=2, n_estimators=100, score=0.816, total=   0.1s\n",
      "[CV] max_depth=None, max_features=sqrt, min_samples_leaf=4, min_samples_split=2, n_estimators=100 \n"
     ]
    },
    {
     "name": "stdout",
     "output_type": "stream",
     "text": [
      "[CV]  max_depth=None, max_features=sqrt, min_samples_leaf=4, min_samples_split=2, n_estimators=100, score=0.805, total=   0.1s\n",
      "[CV] max_depth=None, max_features=sqrt, min_samples_leaf=4, min_samples_split=2, n_estimators=125 \n",
      "[CV]  max_depth=None, max_features=sqrt, min_samples_leaf=4, min_samples_split=2, n_estimators=125, score=0.816, total=   0.1s\n",
      "[CV] max_depth=None, max_features=sqrt, min_samples_leaf=4, min_samples_split=2, n_estimators=125 \n",
      "[CV]  max_depth=None, max_features=sqrt, min_samples_leaf=4, min_samples_split=2, n_estimators=125, score=0.779, total=   0.1s\n",
      "[CV] max_depth=None, max_features=sqrt, min_samples_leaf=4, min_samples_split=2, n_estimators=250 \n",
      "[CV]  max_depth=None, max_features=sqrt, min_samples_leaf=4, min_samples_split=2, n_estimators=250, score=0.807, total=   0.3s\n",
      "[CV] max_depth=None, max_features=sqrt, min_samples_leaf=4, min_samples_split=2, n_estimators=250 \n",
      "[CV]  max_depth=None, max_features=sqrt, min_samples_leaf=4, min_samples_split=2, n_estimators=250, score=0.796, total=   0.3s\n",
      "[CV] max_depth=None, max_features=sqrt, min_samples_leaf=4, min_samples_split=2, n_estimators=500 \n",
      "[CV]  max_depth=None, max_features=sqrt, min_samples_leaf=4, min_samples_split=2, n_estimators=500, score=0.816, total=   0.6s\n",
      "[CV] max_depth=None, max_features=sqrt, min_samples_leaf=4, min_samples_split=2, n_estimators=500 \n",
      "[CV]  max_depth=None, max_features=sqrt, min_samples_leaf=4, min_samples_split=2, n_estimators=500, score=0.779, total=   0.6s\n",
      "[CV] max_depth=None, max_features=sqrt, min_samples_leaf=4, min_samples_split=2, n_estimators=1000 \n",
      "[CV]  max_depth=None, max_features=sqrt, min_samples_leaf=4, min_samples_split=2, n_estimators=1000, score=0.807, total=   1.2s\n",
      "[CV] max_depth=None, max_features=sqrt, min_samples_leaf=4, min_samples_split=2, n_estimators=1000 \n",
      "[CV]  max_depth=None, max_features=sqrt, min_samples_leaf=4, min_samples_split=2, n_estimators=1000, score=0.796, total=   1.2s\n",
      "[CV] max_depth=None, max_features=sqrt, min_samples_leaf=4, min_samples_split=4, n_estimators=100 \n",
      "[CV]  max_depth=None, max_features=sqrt, min_samples_leaf=4, min_samples_split=4, n_estimators=100, score=0.807, total=   0.1s\n",
      "[CV] max_depth=None, max_features=sqrt, min_samples_leaf=4, min_samples_split=4, n_estimators=100 \n",
      "[CV]  max_depth=None, max_features=sqrt, min_samples_leaf=4, min_samples_split=4, n_estimators=100, score=0.796, total=   0.1s\n",
      "[CV] max_depth=None, max_features=sqrt, min_samples_leaf=4, min_samples_split=4, n_estimators=125 \n",
      "[CV]  max_depth=None, max_features=sqrt, min_samples_leaf=4, min_samples_split=4, n_estimators=125, score=0.825, total=   0.1s\n",
      "[CV] max_depth=None, max_features=sqrt, min_samples_leaf=4, min_samples_split=4, n_estimators=125 \n",
      "[CV]  max_depth=None, max_features=sqrt, min_samples_leaf=4, min_samples_split=4, n_estimators=125, score=0.796, total=   0.2s\n",
      "[CV] max_depth=None, max_features=sqrt, min_samples_leaf=4, min_samples_split=4, n_estimators=250 \n",
      "[CV]  max_depth=None, max_features=sqrt, min_samples_leaf=4, min_samples_split=4, n_estimators=250, score=0.798, total=   0.3s\n",
      "[CV] max_depth=None, max_features=sqrt, min_samples_leaf=4, min_samples_split=4, n_estimators=250 \n",
      "[CV]  max_depth=None, max_features=sqrt, min_samples_leaf=4, min_samples_split=4, n_estimators=250, score=0.788, total=   0.3s\n",
      "[CV] max_depth=None, max_features=sqrt, min_samples_leaf=4, min_samples_split=4, n_estimators=500 \n",
      "[CV]  max_depth=None, max_features=sqrt, min_samples_leaf=4, min_samples_split=4, n_estimators=500, score=0.816, total=   0.6s\n",
      "[CV] max_depth=None, max_features=sqrt, min_samples_leaf=4, min_samples_split=4, n_estimators=500 \n",
      "[CV]  max_depth=None, max_features=sqrt, min_samples_leaf=4, min_samples_split=4, n_estimators=500, score=0.796, total=   0.6s\n",
      "[CV] max_depth=None, max_features=sqrt, min_samples_leaf=4, min_samples_split=4, n_estimators=1000 \n",
      "[CV]  max_depth=None, max_features=sqrt, min_samples_leaf=4, min_samples_split=4, n_estimators=1000, score=0.807, total=   1.2s\n",
      "[CV] max_depth=None, max_features=sqrt, min_samples_leaf=4, min_samples_split=4, n_estimators=1000 \n",
      "[CV]  max_depth=None, max_features=sqrt, min_samples_leaf=4, min_samples_split=4, n_estimators=1000, score=0.779, total=   1.1s\n",
      "[CV] max_depth=None, max_features=log2, min_samples_leaf=2, min_samples_split=2, n_estimators=100 \n",
      "[CV]  max_depth=None, max_features=log2, min_samples_leaf=2, min_samples_split=2, n_estimators=100, score=0.798, total=   0.1s\n",
      "[CV] max_depth=None, max_features=log2, min_samples_leaf=2, min_samples_split=2, n_estimators=100 \n",
      "[CV]  max_depth=None, max_features=log2, min_samples_leaf=2, min_samples_split=2, n_estimators=100, score=0.788, total=   0.1s\n",
      "[CV] max_depth=None, max_features=log2, min_samples_leaf=2, min_samples_split=2, n_estimators=125 \n",
      "[CV]  max_depth=None, max_features=log2, min_samples_leaf=2, min_samples_split=2, n_estimators=125, score=0.816, total=   0.2s\n",
      "[CV] max_depth=None, max_features=log2, min_samples_leaf=2, min_samples_split=2, n_estimators=125 \n",
      "[CV]  max_depth=None, max_features=log2, min_samples_leaf=2, min_samples_split=2, n_estimators=125, score=0.761, total=   0.1s\n",
      "[CV] max_depth=None, max_features=log2, min_samples_leaf=2, min_samples_split=2, n_estimators=250 \n",
      "[CV]  max_depth=None, max_features=log2, min_samples_leaf=2, min_samples_split=2, n_estimators=250, score=0.816, total=   0.3s\n",
      "[CV] max_depth=None, max_features=log2, min_samples_leaf=2, min_samples_split=2, n_estimators=250 \n",
      "[CV]  max_depth=None, max_features=log2, min_samples_leaf=2, min_samples_split=2, n_estimators=250, score=0.788, total=   0.3s\n",
      "[CV] max_depth=None, max_features=log2, min_samples_leaf=2, min_samples_split=2, n_estimators=500 \n",
      "[CV]  max_depth=None, max_features=log2, min_samples_leaf=2, min_samples_split=2, n_estimators=500, score=0.781, total=   0.6s\n",
      "[CV] max_depth=None, max_features=log2, min_samples_leaf=2, min_samples_split=2, n_estimators=500 \n",
      "[CV]  max_depth=None, max_features=log2, min_samples_leaf=2, min_samples_split=2, n_estimators=500, score=0.788, total=   0.6s\n",
      "[CV] max_depth=None, max_features=log2, min_samples_leaf=2, min_samples_split=2, n_estimators=1000 \n",
      "[CV]  max_depth=None, max_features=log2, min_samples_leaf=2, min_samples_split=2, n_estimators=1000, score=0.798, total=   1.5s\n",
      "[CV] max_depth=None, max_features=log2, min_samples_leaf=2, min_samples_split=2, n_estimators=1000 \n",
      "[CV]  max_depth=None, max_features=log2, min_samples_leaf=2, min_samples_split=2, n_estimators=1000, score=0.788, total=   1.5s\n",
      "[CV] max_depth=None, max_features=log2, min_samples_leaf=2, min_samples_split=4, n_estimators=100 \n",
      "[CV]  max_depth=None, max_features=log2, min_samples_leaf=2, min_samples_split=4, n_estimators=100, score=0.807, total=   0.1s\n",
      "[CV] max_depth=None, max_features=log2, min_samples_leaf=2, min_samples_split=4, n_estimators=100 \n",
      "[CV]  max_depth=None, max_features=log2, min_samples_leaf=2, min_samples_split=4, n_estimators=100, score=0.788, total=   0.1s\n",
      "[CV] max_depth=None, max_features=log2, min_samples_leaf=2, min_samples_split=4, n_estimators=125 \n",
      "[CV]  max_depth=None, max_features=log2, min_samples_leaf=2, min_samples_split=4, n_estimators=125, score=0.798, total=   0.2s\n",
      "[CV] max_depth=None, max_features=log2, min_samples_leaf=2, min_samples_split=4, n_estimators=125 \n",
      "[CV]  max_depth=None, max_features=log2, min_samples_leaf=2, min_samples_split=4, n_estimators=125, score=0.788, total=   0.2s\n",
      "[CV] max_depth=None, max_features=log2, min_samples_leaf=2, min_samples_split=4, n_estimators=250 \n",
      "[CV]  max_depth=None, max_features=log2, min_samples_leaf=2, min_samples_split=4, n_estimators=250, score=0.798, total=   0.3s\n",
      "[CV] max_depth=None, max_features=log2, min_samples_leaf=2, min_samples_split=4, n_estimators=250 \n",
      "[CV]  max_depth=None, max_features=log2, min_samples_leaf=2, min_samples_split=4, n_estimators=250, score=0.788, total=   0.3s\n",
      "[CV] max_depth=None, max_features=log2, min_samples_leaf=2, min_samples_split=4, n_estimators=500 \n",
      "[CV]  max_depth=None, max_features=log2, min_samples_leaf=2, min_samples_split=4, n_estimators=500, score=0.798, total=   0.6s\n",
      "[CV] max_depth=None, max_features=log2, min_samples_leaf=2, min_samples_split=4, n_estimators=500 \n",
      "[CV]  max_depth=None, max_features=log2, min_samples_leaf=2, min_samples_split=4, n_estimators=500, score=0.796, total=   0.6s\n",
      "[CV] max_depth=None, max_features=log2, min_samples_leaf=2, min_samples_split=4, n_estimators=1000 \n"
     ]
    },
    {
     "name": "stdout",
     "output_type": "stream",
     "text": [
      "[CV]  max_depth=None, max_features=log2, min_samples_leaf=2, min_samples_split=4, n_estimators=1000, score=0.789, total=   1.2s\n",
      "[CV] max_depth=None, max_features=log2, min_samples_leaf=2, min_samples_split=4, n_estimators=1000 \n",
      "[CV]  max_depth=None, max_features=log2, min_samples_leaf=2, min_samples_split=4, n_estimators=1000, score=0.788, total=   1.7s\n",
      "[CV] max_depth=None, max_features=log2, min_samples_leaf=4, min_samples_split=2, n_estimators=100 \n",
      "[CV]  max_depth=None, max_features=log2, min_samples_leaf=4, min_samples_split=2, n_estimators=100, score=0.816, total=   0.1s\n",
      "[CV] max_depth=None, max_features=log2, min_samples_leaf=4, min_samples_split=2, n_estimators=100 \n",
      "[CV]  max_depth=None, max_features=log2, min_samples_leaf=4, min_samples_split=2, n_estimators=100, score=0.805, total=   0.1s\n",
      "[CV] max_depth=None, max_features=log2, min_samples_leaf=4, min_samples_split=2, n_estimators=125 \n",
      "[CV]  max_depth=None, max_features=log2, min_samples_leaf=4, min_samples_split=2, n_estimators=125, score=0.816, total=   0.2s\n",
      "[CV] max_depth=None, max_features=log2, min_samples_leaf=4, min_samples_split=2, n_estimators=125 \n",
      "[CV]  max_depth=None, max_features=log2, min_samples_leaf=4, min_samples_split=2, n_estimators=125, score=0.805, total=   0.2s\n",
      "[CV] max_depth=None, max_features=log2, min_samples_leaf=4, min_samples_split=2, n_estimators=250 \n",
      "[CV]  max_depth=None, max_features=log2, min_samples_leaf=4, min_samples_split=2, n_estimators=250, score=0.798, total=   0.3s\n",
      "[CV] max_depth=None, max_features=log2, min_samples_leaf=4, min_samples_split=2, n_estimators=250 \n",
      "[CV]  max_depth=None, max_features=log2, min_samples_leaf=4, min_samples_split=2, n_estimators=250, score=0.788, total=   0.3s\n",
      "[CV] max_depth=None, max_features=log2, min_samples_leaf=4, min_samples_split=2, n_estimators=500 \n",
      "[CV]  max_depth=None, max_features=log2, min_samples_leaf=4, min_samples_split=2, n_estimators=500, score=0.816, total=   0.6s\n",
      "[CV] max_depth=None, max_features=log2, min_samples_leaf=4, min_samples_split=2, n_estimators=500 \n",
      "[CV]  max_depth=None, max_features=log2, min_samples_leaf=4, min_samples_split=2, n_estimators=500, score=0.796, total=   0.6s\n",
      "[CV] max_depth=None, max_features=log2, min_samples_leaf=4, min_samples_split=2, n_estimators=1000 \n",
      "[CV]  max_depth=None, max_features=log2, min_samples_leaf=4, min_samples_split=2, n_estimators=1000, score=0.807, total=   1.1s\n",
      "[CV] max_depth=None, max_features=log2, min_samples_leaf=4, min_samples_split=2, n_estimators=1000 \n",
      "[CV]  max_depth=None, max_features=log2, min_samples_leaf=4, min_samples_split=2, n_estimators=1000, score=0.788, total=   1.3s\n",
      "[CV] max_depth=None, max_features=log2, min_samples_leaf=4, min_samples_split=4, n_estimators=100 \n",
      "[CV]  max_depth=None, max_features=log2, min_samples_leaf=4, min_samples_split=4, n_estimators=100, score=0.816, total=   0.1s\n",
      "[CV] max_depth=None, max_features=log2, min_samples_leaf=4, min_samples_split=4, n_estimators=100 \n",
      "[CV]  max_depth=None, max_features=log2, min_samples_leaf=4, min_samples_split=4, n_estimators=100, score=0.788, total=   0.1s\n",
      "[CV] max_depth=None, max_features=log2, min_samples_leaf=4, min_samples_split=4, n_estimators=125 \n",
      "[CV]  max_depth=None, max_features=log2, min_samples_leaf=4, min_samples_split=4, n_estimators=125, score=0.825, total=   0.2s\n",
      "[CV] max_depth=None, max_features=log2, min_samples_leaf=4, min_samples_split=4, n_estimators=125 \n",
      "[CV]  max_depth=None, max_features=log2, min_samples_leaf=4, min_samples_split=4, n_estimators=125, score=0.761, total=   0.2s\n",
      "[CV] max_depth=None, max_features=log2, min_samples_leaf=4, min_samples_split=4, n_estimators=250 \n",
      "[CV]  max_depth=None, max_features=log2, min_samples_leaf=4, min_samples_split=4, n_estimators=250, score=0.807, total=   0.3s\n",
      "[CV] max_depth=None, max_features=log2, min_samples_leaf=4, min_samples_split=4, n_estimators=250 \n",
      "[CV]  max_depth=None, max_features=log2, min_samples_leaf=4, min_samples_split=4, n_estimators=250, score=0.788, total=   0.3s\n",
      "[CV] max_depth=None, max_features=log2, min_samples_leaf=4, min_samples_split=4, n_estimators=500 \n",
      "[CV]  max_depth=None, max_features=log2, min_samples_leaf=4, min_samples_split=4, n_estimators=500, score=0.807, total=   0.6s\n",
      "[CV] max_depth=None, max_features=log2, min_samples_leaf=4, min_samples_split=4, n_estimators=500 \n",
      "[CV]  max_depth=None, max_features=log2, min_samples_leaf=4, min_samples_split=4, n_estimators=500, score=0.805, total=   0.6s\n",
      "[CV] max_depth=None, max_features=log2, min_samples_leaf=4, min_samples_split=4, n_estimators=1000 \n",
      "[CV]  max_depth=None, max_features=log2, min_samples_leaf=4, min_samples_split=4, n_estimators=1000, score=0.807, total=   1.3s\n",
      "[CV] max_depth=None, max_features=log2, min_samples_leaf=4, min_samples_split=4, n_estimators=1000 \n",
      "[CV]  max_depth=None, max_features=log2, min_samples_leaf=4, min_samples_split=4, n_estimators=1000, score=0.779, total=   1.2s\n",
      "[CV] max_depth=25, max_features=auto, min_samples_leaf=2, min_samples_split=2, n_estimators=100 \n",
      "[CV]  max_depth=25, max_features=auto, min_samples_leaf=2, min_samples_split=2, n_estimators=100, score=0.833, total=   0.1s\n",
      "[CV] max_depth=25, max_features=auto, min_samples_leaf=2, min_samples_split=2, n_estimators=100 \n",
      "[CV]  max_depth=25, max_features=auto, min_samples_leaf=2, min_samples_split=2, n_estimators=100, score=0.788, total=   0.1s\n",
      "[CV] max_depth=25, max_features=auto, min_samples_leaf=2, min_samples_split=2, n_estimators=125 \n",
      "[CV]  max_depth=25, max_features=auto, min_samples_leaf=2, min_samples_split=2, n_estimators=125, score=0.825, total=   0.2s\n",
      "[CV] max_depth=25, max_features=auto, min_samples_leaf=2, min_samples_split=2, n_estimators=125 \n",
      "[CV]  max_depth=25, max_features=auto, min_samples_leaf=2, min_samples_split=2, n_estimators=125, score=0.796, total=   0.2s\n",
      "[CV] max_depth=25, max_features=auto, min_samples_leaf=2, min_samples_split=2, n_estimators=250 \n",
      "[CV]  max_depth=25, max_features=auto, min_samples_leaf=2, min_samples_split=2, n_estimators=250, score=0.798, total=   0.3s\n",
      "[CV] max_depth=25, max_features=auto, min_samples_leaf=2, min_samples_split=2, n_estimators=250 \n",
      "[CV]  max_depth=25, max_features=auto, min_samples_leaf=2, min_samples_split=2, n_estimators=250, score=0.796, total=   0.3s\n",
      "[CV] max_depth=25, max_features=auto, min_samples_leaf=2, min_samples_split=2, n_estimators=500 \n",
      "[CV]  max_depth=25, max_features=auto, min_samples_leaf=2, min_samples_split=2, n_estimators=500, score=0.816, total=   0.6s\n",
      "[CV] max_depth=25, max_features=auto, min_samples_leaf=2, min_samples_split=2, n_estimators=500 \n",
      "[CV]  max_depth=25, max_features=auto, min_samples_leaf=2, min_samples_split=2, n_estimators=500, score=0.796, total=   0.6s\n",
      "[CV] max_depth=25, max_features=auto, min_samples_leaf=2, min_samples_split=2, n_estimators=1000 \n",
      "[CV]  max_depth=25, max_features=auto, min_samples_leaf=2, min_samples_split=2, n_estimators=1000, score=0.807, total=   1.2s\n",
      "[CV] max_depth=25, max_features=auto, min_samples_leaf=2, min_samples_split=2, n_estimators=1000 \n",
      "[CV]  max_depth=25, max_features=auto, min_samples_leaf=2, min_samples_split=2, n_estimators=1000, score=0.788, total=   1.1s\n",
      "[CV] max_depth=25, max_features=auto, min_samples_leaf=2, min_samples_split=4, n_estimators=100 \n",
      "[CV]  max_depth=25, max_features=auto, min_samples_leaf=2, min_samples_split=4, n_estimators=100, score=0.798, total=   0.1s\n",
      "[CV] max_depth=25, max_features=auto, min_samples_leaf=2, min_samples_split=4, n_estimators=100 \n",
      "[CV]  max_depth=25, max_features=auto, min_samples_leaf=2, min_samples_split=4, n_estimators=100, score=0.788, total=   0.1s\n",
      "[CV] max_depth=25, max_features=auto, min_samples_leaf=2, min_samples_split=4, n_estimators=125 \n",
      "[CV]  max_depth=25, max_features=auto, min_samples_leaf=2, min_samples_split=4, n_estimators=125, score=0.798, total=   0.1s\n",
      "[CV] max_depth=25, max_features=auto, min_samples_leaf=2, min_samples_split=4, n_estimators=125 \n",
      "[CV]  max_depth=25, max_features=auto, min_samples_leaf=2, min_samples_split=4, n_estimators=125, score=0.779, total=   0.1s\n",
      "[CV] max_depth=25, max_features=auto, min_samples_leaf=2, min_samples_split=4, n_estimators=250 \n",
      "[CV]  max_depth=25, max_features=auto, min_samples_leaf=2, min_samples_split=4, n_estimators=250, score=0.807, total=   0.3s\n",
      "[CV] max_depth=25, max_features=auto, min_samples_leaf=2, min_samples_split=4, n_estimators=250 \n"
     ]
    },
    {
     "name": "stdout",
     "output_type": "stream",
     "text": [
      "[CV]  max_depth=25, max_features=auto, min_samples_leaf=2, min_samples_split=4, n_estimators=250, score=0.779, total=   0.3s\n",
      "[CV] max_depth=25, max_features=auto, min_samples_leaf=2, min_samples_split=4, n_estimators=500 \n",
      "[CV]  max_depth=25, max_features=auto, min_samples_leaf=2, min_samples_split=4, n_estimators=500, score=0.798, total=   0.5s\n",
      "[CV] max_depth=25, max_features=auto, min_samples_leaf=2, min_samples_split=4, n_estimators=500 \n",
      "[CV]  max_depth=25, max_features=auto, min_samples_leaf=2, min_samples_split=4, n_estimators=500, score=0.788, total=   0.5s\n",
      "[CV] max_depth=25, max_features=auto, min_samples_leaf=2, min_samples_split=4, n_estimators=1000 \n",
      "[CV]  max_depth=25, max_features=auto, min_samples_leaf=2, min_samples_split=4, n_estimators=1000, score=0.798, total=   1.2s\n",
      "[CV] max_depth=25, max_features=auto, min_samples_leaf=2, min_samples_split=4, n_estimators=1000 \n",
      "[CV]  max_depth=25, max_features=auto, min_samples_leaf=2, min_samples_split=4, n_estimators=1000, score=0.796, total=   1.1s\n",
      "[CV] max_depth=25, max_features=auto, min_samples_leaf=4, min_samples_split=2, n_estimators=100 \n",
      "[CV]  max_depth=25, max_features=auto, min_samples_leaf=4, min_samples_split=2, n_estimators=100, score=0.798, total=   0.1s\n",
      "[CV] max_depth=25, max_features=auto, min_samples_leaf=4, min_samples_split=2, n_estimators=100 \n",
      "[CV]  max_depth=25, max_features=auto, min_samples_leaf=4, min_samples_split=2, n_estimators=100, score=0.796, total=   0.1s\n",
      "[CV] max_depth=25, max_features=auto, min_samples_leaf=4, min_samples_split=2, n_estimators=125 \n",
      "[CV]  max_depth=25, max_features=auto, min_samples_leaf=4, min_samples_split=2, n_estimators=125, score=0.816, total=   0.1s\n",
      "[CV] max_depth=25, max_features=auto, min_samples_leaf=4, min_samples_split=2, n_estimators=125 \n",
      "[CV]  max_depth=25, max_features=auto, min_samples_leaf=4, min_samples_split=2, n_estimators=125, score=0.805, total=   0.1s\n",
      "[CV] max_depth=25, max_features=auto, min_samples_leaf=4, min_samples_split=2, n_estimators=250 \n",
      "[CV]  max_depth=25, max_features=auto, min_samples_leaf=4, min_samples_split=2, n_estimators=250, score=0.807, total=   0.3s\n",
      "[CV] max_depth=25, max_features=auto, min_samples_leaf=4, min_samples_split=2, n_estimators=250 \n",
      "[CV]  max_depth=25, max_features=auto, min_samples_leaf=4, min_samples_split=2, n_estimators=250, score=0.779, total=   0.3s\n",
      "[CV] max_depth=25, max_features=auto, min_samples_leaf=4, min_samples_split=2, n_estimators=500 \n",
      "[CV]  max_depth=25, max_features=auto, min_samples_leaf=4, min_samples_split=2, n_estimators=500, score=0.807, total=   0.9s\n",
      "[CV] max_depth=25, max_features=auto, min_samples_leaf=4, min_samples_split=2, n_estimators=500 \n",
      "[CV]  max_depth=25, max_features=auto, min_samples_leaf=4, min_samples_split=2, n_estimators=500, score=0.788, total=   0.7s\n",
      "[CV] max_depth=25, max_features=auto, min_samples_leaf=4, min_samples_split=2, n_estimators=1000 \n",
      "[CV]  max_depth=25, max_features=auto, min_samples_leaf=4, min_samples_split=2, n_estimators=1000, score=0.798, total=   1.1s\n",
      "[CV] max_depth=25, max_features=auto, min_samples_leaf=4, min_samples_split=2, n_estimators=1000 \n",
      "[CV]  max_depth=25, max_features=auto, min_samples_leaf=4, min_samples_split=2, n_estimators=1000, score=0.788, total=   1.1s\n",
      "[CV] max_depth=25, max_features=auto, min_samples_leaf=4, min_samples_split=4, n_estimators=100 \n",
      "[CV]  max_depth=25, max_features=auto, min_samples_leaf=4, min_samples_split=4, n_estimators=100, score=0.789, total=   0.1s\n",
      "[CV] max_depth=25, max_features=auto, min_samples_leaf=4, min_samples_split=4, n_estimators=100 \n",
      "[CV]  max_depth=25, max_features=auto, min_samples_leaf=4, min_samples_split=4, n_estimators=100, score=0.788, total=   0.1s\n",
      "[CV] max_depth=25, max_features=auto, min_samples_leaf=4, min_samples_split=4, n_estimators=125 \n",
      "[CV]  max_depth=25, max_features=auto, min_samples_leaf=4, min_samples_split=4, n_estimators=125, score=0.807, total=   0.1s\n",
      "[CV] max_depth=25, max_features=auto, min_samples_leaf=4, min_samples_split=4, n_estimators=125 \n",
      "[CV]  max_depth=25, max_features=auto, min_samples_leaf=4, min_samples_split=4, n_estimators=125, score=0.796, total=   0.1s\n",
      "[CV] max_depth=25, max_features=auto, min_samples_leaf=4, min_samples_split=4, n_estimators=250 \n",
      "[CV]  max_depth=25, max_features=auto, min_samples_leaf=4, min_samples_split=4, n_estimators=250, score=0.798, total=   0.3s\n",
      "[CV] max_depth=25, max_features=auto, min_samples_leaf=4, min_samples_split=4, n_estimators=250 \n",
      "[CV]  max_depth=25, max_features=auto, min_samples_leaf=4, min_samples_split=4, n_estimators=250, score=0.796, total=   0.3s\n",
      "[CV] max_depth=25, max_features=auto, min_samples_leaf=4, min_samples_split=4, n_estimators=500 \n",
      "[CV]  max_depth=25, max_features=auto, min_samples_leaf=4, min_samples_split=4, n_estimators=500, score=0.807, total=   0.5s\n",
      "[CV] max_depth=25, max_features=auto, min_samples_leaf=4, min_samples_split=4, n_estimators=500 \n",
      "[CV]  max_depth=25, max_features=auto, min_samples_leaf=4, min_samples_split=4, n_estimators=500, score=0.805, total=   0.5s\n",
      "[CV] max_depth=25, max_features=auto, min_samples_leaf=4, min_samples_split=4, n_estimators=1000 \n",
      "[CV]  max_depth=25, max_features=auto, min_samples_leaf=4, min_samples_split=4, n_estimators=1000, score=0.807, total=   1.1s\n",
      "[CV] max_depth=25, max_features=auto, min_samples_leaf=4, min_samples_split=4, n_estimators=1000 \n",
      "[CV]  max_depth=25, max_features=auto, min_samples_leaf=4, min_samples_split=4, n_estimators=1000, score=0.796, total=   1.1s\n",
      "[CV] max_depth=25, max_features=sqrt, min_samples_leaf=2, min_samples_split=2, n_estimators=100 \n",
      "[CV]  max_depth=25, max_features=sqrt, min_samples_leaf=2, min_samples_split=2, n_estimators=100, score=0.807, total=   0.1s\n",
      "[CV] max_depth=25, max_features=sqrt, min_samples_leaf=2, min_samples_split=2, n_estimators=100 \n",
      "[CV]  max_depth=25, max_features=sqrt, min_samples_leaf=2, min_samples_split=2, n_estimators=100, score=0.779, total=   0.1s\n",
      "[CV] max_depth=25, max_features=sqrt, min_samples_leaf=2, min_samples_split=2, n_estimators=125 \n",
      "[CV]  max_depth=25, max_features=sqrt, min_samples_leaf=2, min_samples_split=2, n_estimators=125, score=0.807, total=   0.2s\n",
      "[CV] max_depth=25, max_features=sqrt, min_samples_leaf=2, min_samples_split=2, n_estimators=125 \n",
      "[CV]  max_depth=25, max_features=sqrt, min_samples_leaf=2, min_samples_split=2, n_estimators=125, score=0.788, total=   0.2s\n",
      "[CV] max_depth=25, max_features=sqrt, min_samples_leaf=2, min_samples_split=2, n_estimators=250 \n"
     ]
    }
   ],
   "source": [
    "grid = {\n",
    "    \"n_estimators\":[100,125,250,500,1000],\n",
    "    \"max_depth\":[None,25],\n",
    "    \"max_features\":[\"auto\",\"sqrt\",'log2'],\n",
    "    \"min_samples_split\":[2,4],\n",
    "    \"min_samples_leaf\":[2,4],\n",
    "}\n",
    "model_rs = RandomForestClassifier()\n",
    "gs = GridSearchCV(estimator=model_rs,param_grid=grid,cv=round(2.5),verbose=25)\n",
    "gs.fit(X_train,y_train)\n",
    "print(gs.best_estimator_)\n",
    "print(gs.score(X_test,y_test))\n",
    "print(gs.best_score_)\n",
    "import pickle\n",
    "pickle.dump(gs,open('./model_grid.pkl','wb'))"
   ]
  },
  {
   "cell_type": "code",
   "execution_count": null,
   "metadata": {},
   "outputs": [],
   "source": [
    "print('Done')"
   ]
  },
  {
   "cell_type": "code",
   "execution_count": null,
   "metadata": {},
   "outputs": [],
   "source": []
  }
 ],
 "metadata": {
  "kernelspec": {
   "display_name": "Python 3",
   "language": "python",
   "name": "python3"
  },
  "language_info": {
   "codemirror_mode": {
    "name": "ipython",
    "version": 3
   },
   "file_extension": ".py",
   "mimetype": "text/x-python",
   "name": "python",
   "nbconvert_exporter": "python",
   "pygments_lexer": "ipython3",
   "version": "3.8.5"
  }
 },
 "nbformat": 4,
 "nbformat_minor": 4
}
